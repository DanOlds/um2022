{
 "cells": [
  {
   "cell_type": "markdown",
   "id": "b18a8b1d-5a3a-4c02-9f5e-0d7ac56a0953",
   "metadata": {},
   "source": [
    "# A la carte analysis at jupyter.nsls2 with tiled\n",
    "\n",
    "### Andi Barbour, Soft X-ray Scattering and Spectroscopy, CSX, NSLS-II\n",
    "\n",
    "### NSLS-II and CFN Users' Meeting 2020\n",
    "Workshop 6\n",
    "\n",
    "Notebook #2"
   ]
  },
  {
   "cell_type": "code",
   "execution_count": null,
   "id": "71449659-877f-42a8-8e95-23a7bb03e67d",
   "metadata": {},
   "outputs": [],
   "source": [
    "from matplotlib import cm, pyplot as plt\n",
    "import numpy as np\n",
    "import pandas as pd\n",
    "import xarray as xr\n",
    "\n",
    "import datetime\n",
    "from itertools import cycle"
   ]
  },
  {
   "cell_type": "markdown",
   "id": "37a5155d-9ca0-48f1-8c81-aa7546f380e8",
   "metadata": {},
   "source": [
    "# Explore data produced by bluesky using tiled\n",
    "## 2D scans from pre-assembled plans\n",
    "\n",
    "\n",
    "[current bluesky documentation](https://blueskyproject.io/bluesky/)\n",
    "\n",
    "[current tiled documentation](https://blueskyproject.io/tiled/)"
   ]
  },
  {
   "cell_type": "code",
   "execution_count": null,
   "id": "48d9a364-afb4-46bd-85e7-9ccb5a4afa7f",
   "metadata": {
    "tags": []
   },
   "outputs": [],
   "source": [
    "from databroker.queries import TimeRange, RawMongo\n",
    "from tiled.client import from_uri\n",
    "c = from_uri(\"https://tiled-demo.blueskyproject.io/api\")\n",
    "csx = c[\"csx\"][\"raw\"]"
   ]
  },
  {
   "cell_type": "markdown",
   "id": "a84c9852-9039-4869-883d-72cb81a23b18",
   "metadata": {
    "tags": []
   },
   "source": [
    "### for your NSLS-II experiment using databroker v1\n",
    "```python\n",
    "from databroker import Broker\n",
    "from databroker import list_profiles\n",
    "list_profiles()\n",
    "\n",
    "\n",
    "db = Broker.named('csx')\n",
    "```\n",
    "\n",
    "### for your NSLS-II experiment using tiled\n",
    "```python\n",
    "from tiled.client import from_profile\n",
    "c = from_profile(\"csx\")\n",
    "```\n",
    "\n"
   ]
  },
  {
   "cell_type": "code",
   "execution_count": null,
   "id": "8e643af7-4d0d-4fe0-8b76-0e4240824f23",
   "metadata": {},
   "outputs": [],
   "source": []
  },
  {
   "cell_type": "code",
   "execution_count": null,
   "id": "4281c0dc-c79e-40ed-9c04-67dff1986783",
   "metadata": {},
   "outputs": [],
   "source": [
    "dict_slt3_x_pinhole = {-6: '50 um', \n",
    "                       11: '10 um'}\n",
    "\n",
    "dict_esdiag_xray_measure = {-15:'flux', \n",
    "                            -59:'drain current'} #Cu L3 resonance"
   ]
  },
  {
   "cell_type": "code",
   "execution_count": null,
   "id": "4c1194d5-ae33-4863-ad7d-80ff0777d95e",
   "metadata": {},
   "outputs": [],
   "source": [
    "scan = 151860\n",
    "run = csx[scan]\n",
    "start_time = run.start[\"time\"]\n",
    "print(scan, start_time, \"-->\", datetime.datetime.fromtimestamp(start_time).strftime('%Y-%m-%d %H:%M:%S'))"
   ]
  },
  {
   "cell_type": "code",
   "execution_count": null,
   "id": "0ff31cd1-43d3-432e-bc0a-6ed307b6aa5b",
   "metadata": {},
   "outputs": [],
   "source": [
    "data_xr = run[\"primary\"][\"data\"].read(['nanop_bz_user_setpoint', 'nanop_bx_user_setpoint', 'dif_beam_stats2_total'])\n",
    "print(run) #151876"
   ]
  },
  {
   "cell_type": "markdown",
   "id": "593a4174-3b2b-434b-b6cf-21141acc8cca",
   "metadata": {
    "tags": []
   },
   "source": [
    "## Explore the data and try to plot something\n",
    "- scanned motors are\n",
    "    - `'nanop_bz_user_setpoint'`\n",
    "    - `'nanop_bx_user_setpoint'`\n",
    "- counting \"point\" detector is ROI 2 from `dif_beam` AreaDetector\n",
    "    - `'dif_beam_stats2_total'`\n",
    "    \n",
    "*Here is some room to try things out*\n",
    "- Can you plot something?\n",
    "- Do you now what kind of scan or the plan pattern?"
   ]
  },
  {
   "cell_type": "code",
   "execution_count": null,
   "id": "ce776eaa-d2c1-4530-895a-5cceb3ad9e5b",
   "metadata": {},
   "outputs": [],
   "source": []
  },
  {
   "cell_type": "code",
   "execution_count": null,
   "id": "295febbf-0a90-4039-9712-a4f3130d3095",
   "metadata": {},
   "outputs": [],
   "source": []
  },
  {
   "cell_type": "code",
   "execution_count": null,
   "id": "d385e04f-9f27-456a-9ef3-3a9008587535",
   "metadata": {},
   "outputs": [],
   "source": []
  },
  {
   "cell_type": "markdown",
   "id": "bcc5620c-12cf-4c82-a38e-4dcbba0c97fc",
   "metadata": {
    "jp-MarkdownHeadingCollapsed": true,
    "tags": []
   },
   "source": [
    "### possible solutions"
   ]
  },
  {
   "cell_type": "code",
   "execution_count": null,
   "id": "c58f13df-01a7-4166-9974-d1dbb0bba11d",
   "metadata": {},
   "outputs": [],
   "source": [
    "data_xr"
   ]
  },
  {
   "cell_type": "code",
   "execution_count": null,
   "id": "a07f8f3f-2833-4e18-9589-e93f667dc4ba",
   "metadata": {},
   "outputs": [],
   "source": [
    "print(f'{list(data_xr)}\\n')\n",
    "\n",
    "print(f'{list(data_xr.coords)}\\n')"
   ]
  },
  {
   "cell_type": "code",
   "execution_count": null,
   "id": "f56b2c0a-8ac1-4694-8080-2d571e0d9454",
   "metadata": {
    "tags": []
   },
   "outputs": [],
   "source": [
    "f = plt.figure()\n",
    "for mtr_pos in list(data_xr)[0:2]:\n",
    "    plt.scatter(data_xr.coords[\"time\"], data_xr[mtr_pos], label=data_xr[mtr_pos].name)\n",
    "plt.legend()\n",
    "plt.ylabel('motor position'); plt.xlabel('time')\n",
    "f.savefig('motor_positions_standard_plot.png')"
   ]
  },
  {
   "cell_type": "code",
   "execution_count": null,
   "id": "f06b8118-9bda-41c5-a01a-e2a2ed589729",
   "metadata": {
    "tags": []
   },
   "outputs": [],
   "source": [
    "run.metadata[\"start\"]"
   ]
  },
  {
   "cell_type": "markdown",
   "id": "e36f10cc-3abb-4c58-a407-ad2468d97b72",
   "metadata": {
    "tags": []
   },
   "source": [
    "### We saved a figure\n",
    "\n",
    "- `\"time\"` is like a sequential index\n",
    "\n",
    "- We didn't need to access the start document to see `snake_axes=True`\n",
    "\n",
    "\n",
    "[mesh_grid() with snaking argument](https://blueskyproject.io/bluesky/tutorial.html#scan-multiple-motors-in-a-grid)"
   ]
  },
  {
   "cell_type": "markdown",
   "id": "8eeca5cd-c5fa-408a-a9da-ccdf58090e55",
   "metadata": {
    "jp-MarkdownHeadingCollapsed": true,
    "tags": []
   },
   "source": [
    "### Can we exploint this `\"time\"` index?"
   ]
  },
  {
   "cell_type": "code",
   "execution_count": null,
   "id": "1e2b7da8-aec5-4aa1-9e32-ad2d37767c35",
   "metadata": {
    "tags": []
   },
   "outputs": [],
   "source": [
    "print(f'{data_xr.dims[\"time\"]}')\n",
    "print(f'{np.arange(data_xr.dims[\"time\"])}')"
   ]
  },
  {
   "cell_type": "code",
   "execution_count": null,
   "id": "bb63a062-17b7-4a49-90d3-9601e692d28d",
   "metadata": {},
   "outputs": [],
   "source": [
    "f2 = plt.figure()\n",
    "for mtr_pos in list(data_xr)[0:2]:\n",
    "    data_xr.plot.scatter(\"time\", mtr_pos, label=mtr_pos)\n",
    "plt.legend()\n",
    "plt.ylabel('motor position')\n",
    "f2.savefig('motor_positions_xarray_plot.png')"
   ]
  },
  {
   "cell_type": "code",
   "execution_count": null,
   "id": "5819c360-ed60-42da-965e-86da46e24295",
   "metadata": {},
   "outputs": [],
   "source": [
    "data_xr.dif_beam_stats2_total.plot()"
   ]
  },
  {
   "cell_type": "code",
   "execution_count": null,
   "id": "0d2c016b-6843-4a27-83e5-b4eaabd9df06",
   "metadata": {},
   "outputs": [],
   "source": [
    "data_xr"
   ]
  },
  {
   "cell_type": "markdown",
   "id": "f537c5d4-126f-42ef-bf65-e00c0cd31eae",
   "metadata": {},
   "source": [
    "### We know w will see some central peak if we can create a 3d-plot\n",
    "-**What matplotlib pyplot functions do you reach for?**\n",
    "\n",
    "[matplotlib gallery](https://matplotlib.org/stable/gallery/index.html)\n",
    "\n",
    "-**Will any pyplot function work with the data as is?**"
   ]
  },
  {
   "cell_type": "code",
   "execution_count": null,
   "id": "4c356054-d690-4134-9aff-c18dbac0a8ed",
   "metadata": {},
   "outputs": [],
   "source": []
  },
  {
   "cell_type": "code",
   "execution_count": null,
   "id": "f4bd633c-ca99-49d2-b8e4-9732a2b2ac62",
   "metadata": {},
   "outputs": [],
   "source": []
  },
  {
   "cell_type": "code",
   "execution_count": null,
   "id": "36672c3a-cdec-4b23-97e4-01dd9ae7c098",
   "metadata": {},
   "outputs": [],
   "source": []
  },
  {
   "cell_type": "code",
   "execution_count": null,
   "id": "9770c0cf-ac60-43f4-a6bf-cd7d8936b516",
   "metadata": {},
   "outputs": [],
   "source": []
  },
  {
   "cell_type": "markdown",
   "id": "eb8e5107-cea4-4ea0-a471-3ea56865d118",
   "metadata": {
    "jp-MarkdownHeadingCollapsed": true,
    "tags": []
   },
   "source": [
    "### possible solutions"
   ]
  },
  {
   "cell_type": "code",
   "execution_count": null,
   "id": "fea32b8f-6d08-4f1b-a3fd-ad42b79fad39",
   "metadata": {
    "tags": []
   },
   "outputs": [],
   "source": [
    "data_xr.plot.scatter(\"nanop_bx_user_setpoint\", \"nanop_bz_user_setpoint\", c = data_xr.dif_beam_stats2_total, marker=\"s\", s=100)"
   ]
  },
  {
   "cell_type": "code",
   "execution_count": null,
   "id": "bc90751a-7508-4f43-9393-5eb88faa16e1",
   "metadata": {},
   "outputs": [],
   "source": [
    "data_xr = run[\"primary\"][\"data\"].read(['nanop_bz_user_setpoint', 'nanop_bx_user_setpoint', 'dif_beam_stats2_total'])\n",
    "df_data = data_xr.to_dataframe()\n",
    "df_data = df_data.set_index([ \"nanop_bz_user_setpoint\", \"nanop_bx_user_setpoint\"])\n",
    "ds_img = xr.Dataset.from_dataframe(df_data)\n",
    "\n",
    "print(f'{data_xr.dims}')\n",
    "print(f'{ds_img.dims}')\n",
    "\n",
    "ds_img"
   ]
  },
  {
   "cell_type": "code",
   "execution_count": null,
   "id": "4e69c44b-b544-4fda-8c6a-71d190e6d9ff",
   "metadata": {},
   "outputs": [],
   "source": [
    "#__________________\n",
    "x = ds_img.nanop_bx_user_setpoint\n",
    "y = ds_img.nanop_bz_user_setpoint\n",
    "z = ds_img.dif_beam_stats2_total\n",
    "plt.figure()\n",
    "plt.pcolormesh(x, y, z, )\n",
    "\n",
    "#______________\n",
    "plt.figure()\n",
    "ds_img.dif_beam_stats2_total.plot.pcolormesh()"
   ]
  },
  {
   "cell_type": "code",
   "execution_count": null,
   "id": "24fc1cf5-75ea-4ef3-a51b-79b63d9e1a84",
   "metadata": {},
   "outputs": [],
   "source": [
    "#______________\n",
    "plt.figure()\n",
    "ds_img.dif_beam_stats2_total.plot.imshow()"
   ]
  },
  {
   "cell_type": "markdown",
   "id": "f1308e0f-3440-4218-b039-729a8447c5c5",
   "metadata": {},
   "source": [
    "##  Now that we no what and how to plot:\n",
    "- what data did are coworker collect while we were:\n",
    "    - sleeping\n",
    "    - eating\n",
    "- data we collected that we were too tired to write down or our notes were confusing.\n",
    "    - We know we sorted the problem, but we don't quite remember the details\n",
    "    - We are unsure if we picked the best configuration"
   ]
  },
  {
   "cell_type": "markdown",
   "id": "6abfc917-02bb-4962-b34a-b9b4283ba1ea",
   "metadata": {
    "tags": []
   },
   "source": [
    "### Try to extract these beamtime data only knowing:\n",
    "    - the first scan is `151860`\n",
    "    - the scans occurred until midnight\n",
    "    "
   ]
  },
  {
   "cell_type": "code",
   "execution_count": null,
   "id": "b8e51069-113e-487c-bcb6-f374bbfc84ea",
   "metadata": {},
   "outputs": [],
   "source": []
  },
  {
   "cell_type": "code",
   "execution_count": null,
   "id": "bca2c5f8-3078-4562-8a92-254e7e72a4de",
   "metadata": {},
   "outputs": [],
   "source": []
  },
  {
   "cell_type": "code",
   "execution_count": null,
   "id": "bfbb01d5-2d6c-47a4-a254-973560cbc001",
   "metadata": {},
   "outputs": [],
   "source": []
  },
  {
   "cell_type": "markdown",
   "id": "fab2c72d-6352-48ad-8621-c3d5250d47df",
   "metadata": {
    "jp-MarkdownHeadingCollapsed": true,
    "tags": []
   },
   "source": [
    "### possible solutions"
   ]
  },
  {
   "cell_type": "code",
   "execution_count": null,
   "id": "9848929b-68e9-41c5-8799-c959f2b2c6ff",
   "metadata": {},
   "outputs": [],
   "source": [
    "start_time = run.start[\"time\"]\n",
    "print(scan, start_time, \"-->\", datetime.datetime.fromtimestamp(start_time).strftime('%Y-%m-%d %H:%M:%S'), \"\\n\")\n",
    "\n"
   ]
  },
  {
   "cell_type": "code",
   "execution_count": null,
   "id": "901eb6fe-5a44-4893-b6b8-3564303c66c4",
   "metadata": {},
   "outputs": [],
   "source": []
  },
  {
   "cell_type": "code",
   "execution_count": null,
   "id": "4385968c-eda9-4c31-ae5a-f9e2eee5047e",
   "metadata": {
    "tags": []
   },
   "outputs": [],
   "source": [
    "runs = csx.search(TimeRange(since = \"2022-02-10 20:35:47\", until = \"2022-02-11 00:00:00\"))\n",
    "#runs = csx.search(TimeRange(since = \"2022-02-10 20:35:47\", until = \"2022-02-11 00:00:00\")).search(RawMongo(start={\"plan_name\": 'rel_grid_scan',}))\n",
    "#runs = csx.search(TimeRange(since = \"2022-02-10 20:35:47\", until = \"2022-02-11 00:00:00\")).search(RawMongo(start={\"plan_name\": 'rel_grid_scan', \"detectors\":'dif_beam'}))\n",
    "#runs = csx.search(TimeRange(since = \"2022-02-10 20:35:47\", until = \"2022-02-11 00:00:00\")).search(RawMongo(start={\"plan_name\": 'rel_grid_scan', \"detectors\":'sclr'}))\n",
    "runs"
   ]
  },
  {
   "cell_type": "code",
   "execution_count": null,
   "id": "b89a8b8b-bda1-4c9a-aa6c-3d0fb5c2985a",
   "metadata": {},
   "outputs": [],
   "source": [
    "for k, v in [my_dict.items() for my_dict in [dict_slt3_x_pinhole, dict_esdiag_xray_measure]]:\n",
    "    print(k, v)\n"
   ]
  },
  {
   "cell_type": "code",
   "execution_count": null,
   "id": "3d2ec86a-b9e4-455d-9ec0-884c106bc113",
   "metadata": {
    "tags": []
   },
   "outputs": [],
   "source": []
  },
  {
   "cell_type": "code",
   "execution_count": null,
   "id": "e2911508-bd4d-48b9-9817-97b5d94e1260",
   "metadata": {
    "tags": []
   },
   "outputs": [],
   "source": [
    "#from IPython.display import display -- don't seem to need at jupyter.nsls2 anymore\n",
    "name_order = [\"tardis_delta\",\"tardis_theta\", \"pgm_energy_setpoint\", \"slt3_x_user_setpoint\", \"es_diag1_y_user_setpoint\"]\n",
    "#name_order = [ \"pgm_energy_setpoint\", \"slt3_x_user_setpoint\", \"es_diag1_y_user_setpoint\"]\n",
    "for run in runs.values():\n",
    "    df = run[\"baseline\"][\"data\"].read(name_order).to_dataframe()\n",
    "    print(run.start[\"scan_id\"], run.start[\"detectors\"], run.start[\"plan_name\"], run.start[\"motors\"], run.start[\"num_points\"])# \"--\"*10)\n",
    "    print(\"--\"*50)\n",
    "    if df is not None:\n",
    "        display(df[name_order].mean()) # FOR USER TO TRY - what happens when you remove .mean()\n",
    "    \n",
    "    print(f'{run.stop[\"exit_status\"]:>60} {run.metadata[\"summary\"][\"duration\"]/60:.2f} minutes')# \"--\"*10)\n",
    "    print(\"\\n\")"
   ]
  },
  {
   "cell_type": "markdown",
   "id": "5c84687c-d614-4d9d-9beb-d14f94d5c701",
   "metadata": {},
   "source": [
    "### Maybe you prefer plots or a different table"
   ]
  },
  {
   "cell_type": "code",
   "execution_count": null,
   "id": "b308384d-b763-4da5-84b5-353b8423b6f5",
   "metadata": {},
   "outputs": [],
   "source": [
    "runs = csx.search(TimeRange(since = \"2022-02-10 20:35:47\", until = \"2022-02-11 00:00:00\"))\n",
    "#runs = csx.search(TimeRange(since = \"2022-02-10 20:35:47\", until = \"2022-02-11 00:00:00\")).search(RawMongo(start={\"plan_name\": 'rel_grid_scan',}))\n",
    "#runs = csx.search(TimeRange(since = \"2022-02-10 20:35:47\", until = \"2022-02-11 00:00:00\")).search(RawMongo(start={\"plan_name\": 'rel_grid_scan', \"detectors\":'dif_beam'}))\n",
    "#runs = csx.search(TimeRange(since = \"2022-02-10 20:35:47\", until = \"2022-02-11 00:00:00\")).search(RawMongo(start={\"plan_name\": 'rel_grid_scan', \"detectors\":'sclr'}))"
   ]
  },
  {
   "cell_type": "code",
   "execution_count": null,
   "id": "5fc263a4-0916-4e74-b2e6-75cc8911bfea",
   "metadata": {},
   "outputs": [],
   "source": []
  },
  {
   "cell_type": "code",
   "execution_count": null,
   "id": "db35798a-b45d-42ab-9db5-66162af886b2",
   "metadata": {},
   "outputs": [],
   "source": []
  },
  {
   "cell_type": "markdown",
   "id": "90d731e0-9af4-433f-897b-67976b17f9bc",
   "metadata": {
    "jp-MarkdownHeadingCollapsed": true,
    "tags": []
   },
   "source": [
    "### possible solution for plot"
   ]
  },
  {
   "cell_type": "code",
   "execution_count": null,
   "id": "13ffb5fd-5e67-43b5-99c4-f9e7262fbec6",
   "metadata": {
    "tags": []
   },
   "outputs": [],
   "source": [
    "colors = cycle(cm.get_cmap('viridis')(np.linspace(0, 1, len(runs))))\n",
    "\n",
    "name_order = [ \"pgm_energy_setpoint\", \"slt3_x_user_setpoint\", \"es_diag1_y_user_setpoint\"]\n",
    "fig, axes = plt.subplots(1,len(name_order), figsize=(10,5))\n",
    "for run in runs.values():\n",
    "    df = run[\"baseline\"][\"data\"].read(name_order).to_dataframe()\n",
    "    df = df.mean()\n",
    "    color = next(colors)\n",
    "    \n",
    "    for i, name in enumerate(name_order):\n",
    "        axes[i].plot(run.start[\"scan_id\"], df[name],\"o\", ms=10, color=color )#label=f'{run.start[\"detectors\"]} {run.start[\"plan_name\"]} {run.start[\"motors\"]} {run.start[\"num_points\"]})\n",
    "        \n",
    "    for ax, name in zip(axes, name_order):\n",
    "        ax.set(title=name, xlabel='scan_id' )\n",
    "plt.suptitle(\"Summary of Beamline Configuration Parameters\")"
   ]
  },
  {
   "cell_type": "code",
   "execution_count": null,
   "id": "3d4726ff-bc3a-4dbd-a1b5-32005e0dfa61",
   "metadata": {},
   "outputs": [],
   "source": []
  },
  {
   "cell_type": "markdown",
   "id": "d229f722-5819-47f4-93b6-1364d51b07f9",
   "metadata": {
    "tags": []
   },
   "source": [
    "### Let's look at some targeted scans"
   ]
  },
  {
   "cell_type": "code",
   "execution_count": null,
   "id": "07c738ab-8aa1-43e0-8c5e-1c242d1d1bd9",
   "metadata": {},
   "outputs": [],
   "source": []
  },
  {
   "cell_type": "code",
   "execution_count": null,
   "id": "274325a8-719d-44af-9980-842cb7f12bf7",
   "metadata": {},
   "outputs": [],
   "source": [
    "scans_final = [151863 , 151868 ]"
   ]
  },
  {
   "cell_type": "code",
   "execution_count": null,
   "id": "fab4d70b-16dd-4eae-9eef-e0399ad929b0",
   "metadata": {},
   "outputs": [],
   "source": [
    "scans_final.extend([ 151865,151867])\n",
    "\n",
    "runs_final = csx[scans_final]\n",
    "runs_final"
   ]
  },
  {
   "cell_type": "code",
   "execution_count": null,
   "id": "ec80e08f-640f-4e5d-880b-db590d706a3d",
   "metadata": {},
   "outputs": [],
   "source": [
    "def summarize_runs(runs, name_order):\n",
    "    for run in runs:\n",
    "        df = run[\"baseline\"][\"data\"].read(name_order).to_dataframe()\n",
    "        print(run.start[\"scan_id\"], run.start[\"detectors\"], run.start[\"plan_name\"], run.start[\"motors\"], run.start[\"num_points\"])# \"--\"*10)\n",
    "        print(\"--\"*50)\n",
    "        if df is not None:\n",
    "            display(df[name_order].mean())\n",
    "\n",
    "        print(f'{run.stop[\"exit_status\"]:>60} {run.metadata[\"summary\"][\"duration\"]/60:.2f} minutes')# \"--\"*10)\n",
    "        print(\"\\n\")"
   ]
  },
  {
   "cell_type": "code",
   "execution_count": null,
   "id": "3657658d-fd75-4cd3-8185-4e05df2eea56",
   "metadata": {},
   "outputs": [],
   "source": [
    "summarize_runs(runs_final, name_order = [\"pgm_energy_setpoint\", \"slt3_x\", \"es_diag1_y_user_setpoint\" ])"
   ]
  },
  {
   "cell_type": "markdown",
   "id": "f69e2a63-54f0-4f50-8a0e-a4043dd36dd2",
   "metadata": {},
   "source": [
    "### Try plotting data"
   ]
  },
  {
   "cell_type": "code",
   "execution_count": null,
   "id": "9e864bec-d7e4-4db8-a53d-690e2731177a",
   "metadata": {},
   "outputs": [],
   "source": []
  },
  {
   "cell_type": "code",
   "execution_count": null,
   "id": "9213fbdc-f70f-4292-9451-cc7078fa39ff",
   "metadata": {},
   "outputs": [],
   "source": []
  },
  {
   "cell_type": "code",
   "execution_count": null,
   "id": "4fff0a07-93c8-4fa2-9ffb-ef7af4a005d1",
   "metadata": {},
   "outputs": [],
   "source": []
  },
  {
   "cell_type": "markdown",
   "id": "26b68282-21d8-41f3-b057-1344814e0fca",
   "metadata": {
    "jp-MarkdownHeadingCollapsed": true,
    "tags": []
   },
   "source": [
    "### more matplotlib style"
   ]
  },
  {
   "cell_type": "code",
   "execution_count": null,
   "id": "c521ab3f-85ab-4711-b4d6-e4705f5d1fa7",
   "metadata": {
    "tags": []
   },
   "outputs": [],
   "source": [
    "name_order_bl = [\"pgm_energy_setpoint\", \"slt3_x_user_setpoint\"]\n",
    "name_order = ['nanop_bz_user_setpoint', 'nanop_bx_user_setpoint', 'dif_beam_stats2_total', 'sclr_ch2']\n",
    "\n",
    "fig, axes = plt.subplots(2,2)\n",
    "\n",
    "for run in csx[scans_final]:\n",
    "    data_bl = run.baseline.data.read(name_order_bl)\n",
    "    data = run.primary.data.read()#(name_order)\n",
    "    detectors = run.metadata[\"start\"][\"detectors\"]\n",
    "    i, j = 0, 0\n",
    "    if data_bl[\"pgm_energy_setpoint\"].mean() > 931:\n",
    "        i = 1\n",
    "    if data_bl[\"slt3_x_user_setpoint\"].mean() > 0:\n",
    "        j = 1\n",
    "    \n",
    "    data_df = data.to_dataframe().set_index([ \"nanop_bz_user_setpoint\", \"nanop_bx_user_setpoint\"])\n",
    "    data_img = xr.Dataset.from_dataframe(data_df)\n",
    "    if detectors[0] == 'dif_beam':\n",
    "        signal = data_img.dif_beam_stats2_total\n",
    "    elif detectors[0] == 'sclr':\n",
    "        signal = data_img.sclr_ch2 /  data_img.sclr_ch1\n",
    "\n",
    "    ax = axes[j,i]\n",
    "    ax.pcolormesh(data_img.nanop_bx_user_setpoint, data_img.nanop_bz_user_setpoint,signal)"
   ]
  },
  {
   "cell_type": "markdown",
   "id": "8db16bb8-f0a9-489a-8d78-6a9a5b20c5df",
   "metadata": {
    "jp-MarkdownHeadingCollapsed": true,
    "tags": []
   },
   "source": [
    "### using xarray plotting features"
   ]
  },
  {
   "cell_type": "code",
   "execution_count": null,
   "id": "30c933de-c358-4bd3-b942-31a7ef64add0",
   "metadata": {},
   "outputs": [],
   "source": [
    "# for scan in scans_final:\n",
    "#     run = csx[scan]\n",
    "for run in csx[scans_final]:\n",
    "    data_bl = run.baseline.data.read(name_order_bl)\n",
    "    data = run.primary.data.read()#(name_order)\n",
    "    detectors = run.metadata[\"start\"][\"detectors\"]\n",
    "    \n",
    "    data_df = data.to_dataframe().set_index([ \"nanop_bz_user_setpoint\", \"nanop_bx_user_setpoint\"])\n",
    "    data_img = xr.Dataset.from_dataframe(data_df)\n",
    "    if detectors[0] == 'dif_beam':\n",
    "        signal = data_img.dif_beam_stats2_total\n",
    "    elif detectors[0] == 'sclr':\n",
    "        signal = data_img.sclr_ch2 #/  data_img.sclr_ch1\n",
    "    \n",
    "    plt.figure()\n",
    "    signal.plot.imshow()\n",
    "    df = data_bl.to_dataframe()\n",
    "    energy = df[\"pgm_energy_setpoint\"].mean()\n",
    "    slt3 = round(df[\"slt3_x_user_setpoint\"].mean())\n",
    "    \n",
    "    plt.title(f'Energy = {energy}eV - {dict_slt3_x_pinhole[slt3]} pinhole')"
   ]
  },
  {
   "cell_type": "markdown",
   "id": "f818a5ff-f602-4807-bf8b-740ceb3911f1",
   "metadata": {
    "jp-MarkdownHeadingCollapsed": true,
    "tags": []
   },
   "source": [
    "### Stay Tuned\n",
    "[more on slicing with tiled](https://blueskyproject.io/tiled/tutorials/slicing.html)"
   ]
  },
  {
   "cell_type": "code",
   "execution_count": null,
   "id": "a8ce55b1-7df9-4c5a-a77b-09b3db4b47b1",
   "metadata": {},
   "outputs": [],
   "source": []
  }
 ],
 "metadata": {
  "kernelspec": {
   "display_name": "Python 3",
   "language": "python",
   "name": "python3"
  },
  "language_info": {
   "codemirror_mode": {
    "name": "ipython",
    "version": 3
   },
   "file_extension": ".py",
   "mimetype": "text/x-python",
   "name": "python",
   "nbconvert_exporter": "python",
   "pygments_lexer": "ipython3",
   "version": "3.9.12"
  }
 },
 "nbformat": 4,
 "nbformat_minor": 5
}
