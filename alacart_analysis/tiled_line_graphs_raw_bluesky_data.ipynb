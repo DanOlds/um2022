{
 "cells": [
  {
   "cell_type": "markdown",
   "id": "ab9f4059-c82e-40d2-b32b-21bde190f2bc",
   "metadata": {
    "tags": []
   },
   "source": [
    "<img src='../source_figures/bnl_logo_horizontal_rgb.png' width=\"400\" height=\"400\">\n",
    "\n",
    "# A la carte analysis at jupyter.nsls2 with tiled\n",
    "\n",
    "### Andi Barbour, Soft X-ray Scattering and Spectroscopy, CSX, NSLS-II\n",
    "\n",
    "### NSLS-II and CFN Users' Meeting 2020\n",
    "Workshop 6\n",
    "\n",
    "Notebook #1"
   ]
  },
  {
   "cell_type": "code",
   "execution_count": null,
   "id": "a933c999-0aff-4e96-9b18-6eedb1ac5b5f",
   "metadata": {},
   "outputs": [],
   "source": [
    "from matplotlib import cm,  pyplot as plt\n",
    "from itertools import cycle\n",
    "import numpy as np\n",
    "import pandas as pd\n",
    "import time\n",
    "from sys import getsizeof"
   ]
  },
  {
   "cell_type": "markdown",
   "id": "b2c12e9b-186b-41e5-a0ae-aad38de4a7a5",
   "metadata": {
    "tags": []
   },
   "source": [
    "# Explore data acquired  by `bluesky` using `tiled`\n",
    "## 1D scans from plans like `rel_scan()` and `scan()`\n",
    "\n",
    "[current bluesky documentation](https://blueskyproject.io/bluesky/)\n",
    "\n",
    "[current tiled documentation](https://blueskyproject.io/tiled/)"
   ]
  },
  {
   "cell_type": "code",
   "execution_count": null,
   "id": "2f4e5f1a-8186-4de7-b050-63b8026f48ac",
   "metadata": {},
   "outputs": [],
   "source": [
    "from tiled.client import from_uri\n",
    "from databroker.queries import TimeRange, RawMongo\n",
    "\n",
    "c = from_uri(\"https://tiled-demo.blueskyproject.io/api\")\n",
    "csx = c[\"csx\"][\"raw\"]"
   ]
  },
  {
   "cell_type": "markdown",
   "id": "77a01d13-9e05-4976-be4a-04446997e352",
   "metadata": {
    "jp-MarkdownHeadingCollapsed": true,
    "tags": []
   },
   "source": [
    "## get all of the data collected by bluesky\n",
    "**SCANS**\n",
    "   - list of intergers or scans\n",
    "   - `\"scan_id\"` is a scan number\n",
    "   - alternatively retireved by `\"uid\"`\n",
    "   ```python\n",
    "       \n",
    "       scans = ['851a80bc',  '02bb6652', '02bb6652']\n",
    "       \n",
    "       uids = ['851a80bc',  '02bb6652', '02bb6652']\n",
    "   ```\n",
    "    \n",
    "**RUNS**\n",
    "   - catalog of data entries\n",
    "   - each entry corresponds to a scan collected by bluesy"
   ]
  },
  {
   "cell_type": "code",
   "execution_count": null,
   "id": "a74248bb-1315-484d-a09f-88857ce2737e",
   "metadata": {
    "tags": []
   },
   "outputs": [],
   "source": [
    "scans = [150959, 150960, 150961]"
   ]
  },
  {
   "cell_type": "code",
   "execution_count": null,
   "id": "99fb618d-7030-43fa-8d76-ea7cb41ce4c0",
   "metadata": {},
   "outputs": [],
   "source": [
    "runs = csx[scans]\n",
    "runs\n",
    "list(runs)"
   ]
  },
  {
   "cell_type": "markdown",
   "id": "3e940b8b-6af0-4e03-969b-de7c542433f5",
   "metadata": {
    "jp-MarkdownHeadingCollapsed": true,
    "tags": []
   },
   "source": [
    "## **BUT** how to scale this for REAL experiments over many days"
   ]
  },
  {
   "cell_type": "markdown",
   "id": "37165e84-614b-4571-ab18-abcba86441b6",
   "metadata": {},
   "source": [
    "### An example experiment\n",
    "- maybe this is yours\n",
    "- but it could be from somone who handed off their work\n",
    "- or COVID required the beamline staff to perform your experiment\n",
    "\n",
    "\n",
    "[an experimental summary with jupyter notebooks - data retrieved from raw bluesky data](https://github.com/ambarb/UM2022_NSLS-II_CFN_beamtime_summary/blob/main/CSX_2021_12_17_summary.ipynb)"
   ]
  },
  {
   "cell_type": "code",
   "execution_count": null,
   "id": "6abc3536-c71d-4a92-8874-1e30436b55b1",
   "metadata": {},
   "outputs": [],
   "source": [
    "runs = csx.search(TimeRange(since = '2021-12-17 13:00:00', until = '2021-12-19 23:00:00'))\n",
    "runs"
   ]
  },
  {
   "cell_type": "markdown",
   "id": "f2f1439f-cfb6-41b4-988d-ce55d8ba7a40",
   "metadata": {
    "jp-MarkdownHeadingCollapsed": true,
    "tags": []
   },
   "source": [
    "## **But** a manageable amount of it"
   ]
  },
  {
   "cell_type": "code",
   "execution_count": null,
   "id": "a98b429a-5f0b-40cf-94a7-0e620530ae27",
   "metadata": {},
   "outputs": [],
   "source": [
    "runs = csx.search(TimeRange(since = '2021-12-17 13:00:00', until = '2021-12-19 23:00:00')).search(RawMongo(start={\"purpose\": 'sx center 1 T'}))\n",
    "print(type(runs))\n",
    "runs"
   ]
  },
  {
   "cell_type": "markdown",
   "id": "d111f53e-3521-42ff-a468-a813ad84578a",
   "metadata": {
    "jp-MarkdownHeadingCollapsed": true,
    "tags": []
   },
   "source": [
    "### python lists aren't for your pet snake "
   ]
  },
  {
   "cell_type": "markdown",
   "id": "b9a37b88-b7a4-4718-b363-c89d0079b540",
   "metadata": {
    "jp-MarkdownHeadingCollapsed": true,
    "tags": []
   },
   "source": [
    "\n",
    "\n",
    "\n",
    "<img src='../source_figures/pythonpet.png' width=\"200\"  functionheight=\"200\">\n",
    "\n",
    "* list of uniform data types\n",
    "* return elements by position\n",
    "* return all elements using `list()`\n",
    "\n",
    "```python\n",
    "my_list = [\"item_1\", \"item_2\", \"item_3\"]\n",
    "list(my_list)\n",
    "```\n",
    "\n",
    "\n",
    "[offical reference](https://docs.python.org/3/tutorial/introduction.html#lists)\n",
    "\n",
    "[official python glossary](https://docs.python.org/3/glossary.html#term-list)"
   ]
  },
  {
   "cell_type": "markdown",
   "id": "1bdd6332-9113-4b24-9ff4-f847a1db9dab",
   "metadata": {
    "jp-MarkdownHeadingCollapsed": true,
    "tags": []
   },
   "source": [
    "### python dictionaries work exactly like you expect"
   ]
  },
  {
   "cell_type": "markdown",
   "id": "628c1086-cd37-4108-b2ad-5aee8870a9d3",
   "metadata": {
    "tags": []
   },
   "source": [
    "<img src='../source_figures/pexels-pixabay-267669.jpg' width=\"200\"  functionheight=\"200\">\n",
    "\n",
    "* look up a \"word\" (string or numererical `key`)\n",
    "* learn its \"meaning\" ( return a `value`)\n",
    "* sometimes you have to then look up a 2nd \"word\" found in this \"meaning\" (`nested dictionary`)\n",
    "\n",
    "```python\n",
    "my_dictionary = {'my_key_work':'my_value_meaning'}\n",
    "```\n",
    "\n",
    "\n",
    "[offical reference](https://docs.python.org/3/tutorial/datastructures.html?highlight=dictionary#dictionaries)\n",
    "\n",
    "[official python glossary](https://docs.python.org/3/glossary.html#term-dictionary)\n",
    "\n",
    "[blog post](https://towardsdatascience.com/python-dictionaries-651acb069f94)"
   ]
  },
  {
   "cell_type": "code",
   "execution_count": null,
   "id": "74b634e1-616b-4cba-95d0-ada1c80e3f10",
   "metadata": {},
   "outputs": [],
   "source": [
    "print(type(runs))\n",
    "runs"
   ]
  },
  {
   "cell_type": "code",
   "execution_count": null,
   "id": "5c276f50-3528-4c35-bf18-cd0e339e8aa8",
   "metadata": {},
   "outputs": [],
   "source": [
    "print(runs.keys() ,\"\\n\")\n",
    "\n",
    "print(runs.values() ,\"\\n\")\n"
   ]
  },
  {
   "cell_type": "markdown",
   "id": "65da5039-954f-452e-ac00-69625028adf9",
   "metadata": {
    "jp-MarkdownHeadingCollapsed": true,
    "tags": []
   },
   "source": [
    "## is anyone excited as I was when I discovered this?"
   ]
  },
  {
   "cell_type": "markdown",
   "id": "b3383faf-a13e-46e3-bc50-8be20b24fa4c",
   "metadata": {
    "jp-MarkdownHeadingCollapsed": true,
    "tags": []
   },
   "source": [
    "### this meaning....\n"
   ]
  },
  {
   "cell_type": "markdown",
   "id": "76bab918-4eae-41e9-bc46-296e4c2e0115",
   "metadata": {},
   "source": [
    "<img src='../source_figures/cookie.png' width=\"200\" height=\"200\">"
   ]
  },
  {
   "cell_type": "code",
   "execution_count": null,
   "id": "7fc37e7c-4c38-4fbc-8be8-2903096aff17",
   "metadata": {},
   "outputs": [],
   "source": [
    "len(runs)"
   ]
  },
  {
   "cell_type": "markdown",
   "id": "22a62569-0a2d-4cad-b667-dcb2de4c77a7",
   "metadata": {
    "tags": []
   },
   "source": [
    "### A `tiled` feature vs. `databroker v1` search.......\n",
    "\n",
    "**Previously, retireving is similar:**\n",
    "```python\n",
    "headers = db(since = '2021-12-17 13:00:00', until = '2021-12-19 23:00:00',purpose='sx center 1 T')\n",
    "```\n",
    "\n",
    "**But the length was not known:**\n",
    "```python\n",
    "len(headers)\n",
    "\n",
    "---------------------------------------------------------------------------\n",
    "TypeError                                 Traceback (most recent call last)\n",
    "Input In [83], in <cell line: 1>()\n",
    "----> 1 len(headers)\n",
    "\n",
    "TypeError: object of type 'Results' has no len()\n",
    "```\n",
    "\n",
    "**Iterating through headers takes time**\n",
    "*especially if you just want to narrow down your search*\n",
    "```python\n",
    "for i, h in enumerate(headers):\n",
    "    pass\n",
    "print(i)\n",
    "\n",
    "82\n",
    "\n",
    "```\n",
    "    "
   ]
  },
  {
   "cell_type": "code",
   "execution_count": null,
   "id": "f736b6bd-50ad-426e-9e11-a231d7e5ea63",
   "metadata": {},
   "outputs": [],
   "source": []
  },
  {
   "cell_type": "markdown",
   "id": "31dde041-b770-49cc-9a12-8dcd87a5d278",
   "metadata": {
    "tags": []
   },
   "source": [
    "### what are the parts of a run?\n",
    "(that data associated with a bluesky \"scan\")\n",
    "\n",
    "### how can we inspect this thing that acts like a list or dictionarary?\n",
    "- how can you access the data from the first scan?\n",
    "- what can you plot?\n",
    "- did you find the `\"uids\"` or `\"scan_id\"`?\n",
    "- are there more search keys for `MongoDB queries`?"
   ]
  },
  {
   "cell_type": "code",
   "execution_count": null,
   "id": "bfd0489a-c0b3-4848-a8e1-715a9415f6d4",
   "metadata": {},
   "outputs": [],
   "source": []
  },
  {
   "cell_type": "code",
   "execution_count": null,
   "id": "b69fb6de-679a-4cb4-9648-fceef7bf9c15",
   "metadata": {},
   "outputs": [],
   "source": []
  },
  {
   "cell_type": "code",
   "execution_count": null,
   "id": "e235cec6-a0be-4411-bec7-16e86e2e4c71",
   "metadata": {},
   "outputs": [],
   "source": []
  },
  {
   "cell_type": "markdown",
   "id": "ec25ed6b-621b-439f-8677-29f29efabf4b",
   "metadata": {
    "tags": []
   },
   "source": [
    "### **possible solutions**"
   ]
  },
  {
   "cell_type": "code",
   "execution_count": null,
   "id": "45cc50bc-e4a7-4f1e-b84b-248af0aff247",
   "metadata": {
    "tags": []
   },
   "outputs": [],
   "source": [
    "list(runs);"
   ]
  },
  {
   "cell_type": "code",
   "execution_count": null,
   "id": "2f5eeae6-76a0-4d53-8ccf-a9cc2955e1e4",
   "metadata": {
    "tags": []
   },
   "outputs": [],
   "source": [
    "run = runs[0]\n",
    "run"
   ]
  },
  {
   "cell_type": "code",
   "execution_count": null,
   "id": "6a40d585-ef89-4e4d-a496-09ff6c4c02d4",
   "metadata": {
    "tags": []
   },
   "outputs": [],
   "source": [
    "list(run)"
   ]
  },
  {
   "cell_type": "code",
   "execution_count": null,
   "id": "332630e1-907e-4810-83b2-9e4457082d7c",
   "metadata": {},
   "outputs": [],
   "source": [
    "list(run[\"primary\"])"
   ]
  },
  {
   "cell_type": "code",
   "execution_count": null,
   "id": "3ac057e5-87b6-4efd-9193-8faf8bd23577",
   "metadata": {},
   "outputs": [],
   "source": [
    "print(list(run.metadata))\n",
    "print(list(run.metadata.keys()))\n",
    "#run.metadata\n",
    "#run.metadata[\"start\"]"
   ]
  },
  {
   "cell_type": "markdown",
   "id": "4e830e92-3615-44b5-be05-8afaad03f546",
   "metadata": {
    "jp-MarkdownHeadingCollapsed": true,
    "tags": []
   },
   "source": [
    "## `run.metadata.start` is: \n",
    "* configurable by beamline staff and the users\n",
    "* the only document that is current \"search-able\"\n",
    "* `FullText` search is available but it not suitable if common string combinations are used\n"
   ]
  },
  {
   "cell_type": "markdown",
   "id": "46acc7bd-d061-4010-b9ea-43282708b775",
   "metadata": {
    "tags": []
   },
   "source": [
    "### **WARNING FOR METADATA**: *keys names are difficult to enforce in the start document*\n",
    "<img src='../source_figures/warning.png' width=\"200\"  functionheight=\"200\">\n",
    "\n",
    "* \"global\" metadata (`RE.md`)\n",
    "    - ask before changing (maybe everyone needs it)\n",
    "    - some keys will be come enforced\n",
    "    - https://blueskyproject.io/bluesky/metadata.html#interactively-for-repeated-use\n",
    "* per scan metadata\n",
    "    - cannot edit database so check scripts carefully\n",
    "        - `print(strings)` in plans and use `check_limits()` \"preview\"\n",
    "    - https://blueskyproject.io/bluesky/metadata.html#interactively-for-one-use"
   ]
  },
  {
   "cell_type": "markdown",
   "id": "379fe45e-f16a-4638-a401-6800a086e406",
   "metadata": {},
   "source": [
    "### take a minute to explore the data structure of `run`"
   ]
  },
  {
   "cell_type": "code",
   "execution_count": null,
   "id": "527a0cd4-4dc0-4f15-89d2-7211197ca477",
   "metadata": {},
   "outputs": [],
   "source": []
  },
  {
   "cell_type": "code",
   "execution_count": null,
   "id": "f9ed0b1f-dd6d-4aef-8a02-d60021d57abf",
   "metadata": {},
   "outputs": [],
   "source": []
  },
  {
   "cell_type": "markdown",
   "id": "67975d24-fef1-43f2-8823-007ec22af892",
   "metadata": {
    "tags": []
   },
   "source": [
    "### **possible solutions**"
   ]
  },
  {
   "cell_type": "code",
   "execution_count": null,
   "id": "2ad1202c-18ce-4d66-b19c-4ae5505b76d1",
   "metadata": {},
   "outputs": [],
   "source": [
    "list(run.metadata[\"start\"])"
   ]
  },
  {
   "cell_type": "code",
   "execution_count": null,
   "id": "2aad012a-f17e-4da6-9d22-4d03ff637bd1",
   "metadata": {},
   "outputs": [],
   "source": [
    "print(list(run))"
   ]
  },
  {
   "cell_type": "code",
   "execution_count": null,
   "id": "67e91927-9176-4fa1-a8cd-ca5fd79898c0",
   "metadata": {},
   "outputs": [],
   "source": [
    "print(list(run['primary']))\n",
    "print(list(run.primary))"
   ]
  },
  {
   "cell_type": "markdown",
   "id": "852a7a9d-ab86-4368-9b40-4af3bc515fdd",
   "metadata": {},
   "source": [
    "### the top 2 most used data keys"
   ]
  },
  {
   "cell_type": "code",
   "execution_count": null,
   "id": "c27b442a-325b-47ee-9c13-a1b32a44b213",
   "metadata": {},
   "outputs": [],
   "source": [
    "print(run.metadata[\"start\"][\"scan_id\"], end='\\n\\n')\n",
    "\n",
    "list(run.primary.data)"
   ]
  },
  {
   "cell_type": "markdown",
   "id": "e5c721d4-c8bb-4c12-b257-6fe8ebd41bc1",
   "metadata": {},
   "source": [
    "### my favorite is the `\"baseline\"` data stream\n",
    "[4 lines of code to configure and record `baseline`](https://blueskyproject.io/bluesky/tutorial.html?highlight=baseline#baseline-readings-and-other-supplemental-data)"
   ]
  },
  {
   "cell_type": "code",
   "execution_count": null,
   "id": "dcf68859-607e-42a2-8983-e19461a8352b",
   "metadata": {
    "tags": []
   },
   "outputs": [],
   "source": [
    "list(run.baseline.data)"
   ]
  },
  {
   "cell_type": "markdown",
   "id": "7389ed5c-dcde-4753-808f-69552ee5b77f",
   "metadata": {
    "tags": []
   },
   "source": [
    "## show me the data\n",
    "### iterate through the runs to get a top level view\n",
    "\n",
    "**taking advantage of baseline** *(the readings before and after primary data collection)*"
   ]
  },
  {
   "cell_type": "code",
   "execution_count": null,
   "id": "ad0b8442-f1f0-44bf-8727-79ad92d11787",
   "metadata": {},
   "outputs": [],
   "source": [
    "start_time = time.time()\n",
    "\n",
    "n_plots_col = 3\n",
    "fig_summary, axes = plt.subplots(1,n_plots_col, figsize=(5*n_plots_col, 5))\n",
    "for run in runs.values():\n",
    "    scan = run.start[\"scan_id\"]\n",
    "    data_bl  = run[\"baseline\"][\"data\"].read(['stemp_temp_B_T','sx']) #makes multi-D Xarray, not a large pandas DataFrame\n",
    "    \n",
    "    sample_T = data_bl['stemp_temp_B_T']\n",
    "    sample_x = data_bl['sx']\n",
    "    \n",
    "    ax =  axes[0]\n",
    "    ax.plot(scan,            sample_T.mean(),'o') ; ax.set(xlabel = 'scan_id',      ylabel = sample_T.name)\n",
    "    \n",
    "    ax = axes[1]\n",
    "    ax.plot(scan,            sample_x.mean(),'o') ; ax.set(xlabel = 'scan_id',      ylabel=sample_x.name)\n",
    "    \n",
    "    ax = axes[2]\n",
    "    ax.plot(sample_T.mean(), sample_x.mean(),'o') ; ax.set(xlabel = sample_T.name, ylabel = sample_x.name)\n",
    "\n",
    "tiled_run_time = time.time() - start_time\n",
    "print(f'Run time = {tiled_run_time/60:.2f} minutes')"
   ]
  },
  {
   "cell_type": "markdown",
   "id": "28d7d805-2050-433f-a316-51d86ee0ba9e",
   "metadata": {
    "jp-MarkdownHeadingCollapsed": true,
    "tags": []
   },
   "source": [
    "### Overall\n",
    "- `sx` changing as a function of sample temperature (`stemp_temp_B_T`)\n",
    "- Looks like there could be failed or problematic scans\n",
    "- Proabaly can fit `sx`(`stemp_temp_B_T`) \n",
    "    - assuming the individual scans occured without incident\n",
    "    - if we can put all data in 1 data structure"
   ]
  },
  {
   "cell_type": "markdown",
   "id": "e2434666-6292-4f7b-bcdd-866c7a22fa6d",
   "metadata": {
    "jp-MarkdownHeadingCollapsed": true,
    "tags": []
   },
   "source": [
    "### Let's look at the last scan"
   ]
  },
  {
   "cell_type": "code",
   "execution_count": null,
   "id": "bc7a25fc-ebc3-4c77-a0bf-198780793378",
   "metadata": {},
   "outputs": [],
   "source": [
    "run.start[\"scan_id\"]"
   ]
  },
  {
   "cell_type": "code",
   "execution_count": null,
   "id": "e5a5c246-1e1e-413a-ab56-3e5f0e6e4384",
   "metadata": {},
   "outputs": [],
   "source": [
    "plt.figure()\n",
    "# GET DATA TO PLOT\n",
    "data = run[\"primary\"][\"data\"].read()  #NOTE TO USER - see what happens if you uncomment .read() from this line\n",
    "X = data[\"sx\"]\n",
    "Y = data[\"dif_beam_stats3_total\"]\n",
    "plt.plot(X, Y)\n",
    "\n",
    "# PLOT AXES LABELS AND TITLE\n",
    "plt.ylabel(Y.name); plt.xlabel(X.name); \n",
    "plt.title(f'{run.start[\"scan_id\"]}\\n{run.start[\"uid\"][0:8]}') "
   ]
  },
  {
   "cell_type": "code",
   "execution_count": null,
   "id": "4589c586-0b94-4356-97ce-e850f02c7c92",
   "metadata": {},
   "outputs": [],
   "source": [
    "print(type(data))\n",
    "print(list(data))\n",
    "print(getsizeof(data))\n",
    "data"
   ]
  },
  {
   "cell_type": "markdown",
   "id": "696736c0-4a73-4a90-a241-55b04588e268",
   "metadata": {},
   "source": [
    "### REMEMBER\n",
    "the summary notebook said **ROI 3** (`'dif_beam_stats3_total'`) should be used"
   ]
  },
  {
   "cell_type": "code",
   "execution_count": null,
   "id": "b9972a0b-fb18-47ef-bef7-894d0fb8520c",
   "metadata": {},
   "outputs": [],
   "source": [
    "data['sx']"
   ]
  },
  {
   "cell_type": "code",
   "execution_count": null,
   "id": "34a2c568-cc02-43b9-a07c-e9716e6cd5a8",
   "metadata": {},
   "outputs": [],
   "source": [
    "data['sx'].attrs['units_string']\n",
    "#plt.xlabel(f'{X.name} {X.attrs[\"units_string\"]}')\n"
   ]
  },
  {
   "cell_type": "markdown",
   "id": "17c91679-75e0-498b-a605-06c04f9e4893",
   "metadata": {},
   "source": [
    "**databroker V1 access**\n",
    "```python\n",
    "db[150966].descriptors[0][\"configuration\"][\"sx\"][\"data\"][\"sx_motor_egu\"]\n",
    "```"
   ]
  },
  {
   "cell_type": "markdown",
   "id": "5e02beb3-d5b1-4d34-8464-310408819f41",
   "metadata": {
    "tags": []
   },
   "source": [
    "### Let's improve\n",
    "- drag less data around\n",
    "- add units without hard-coding"
   ]
  },
  {
   "cell_type": "code",
   "execution_count": null,
   "id": "f7489fee-c06f-4205-91c7-20c140f2564f",
   "metadata": {},
   "outputs": [],
   "source": [
    "plt.figure()\n",
    "# GET DATA TO PLOT\n",
    "data = run[\"primary\"][\"data\"]\n",
    "X = data[\"sx\"]\n",
    "Y = data[\"dif_beam_stats3_total\"]\n",
    "plt.plot(X, Y)\n",
    "\n",
    "# PLOT AXES LABELS AND TITLE\n",
    "plt.ylabel(Y.name); plt.xlabel(X.name); \n",
    "plt.title(f'{run.start[\"scan_id\"]}\\n{run.start[\"uid\"][0:8]}') "
   ]
  },
  {
   "cell_type": "markdown",
   "id": "ba69b0a6-7e34-4b25-b961-a0508ac27df7",
   "metadata": {
    "jp-MarkdownHeadingCollapsed": true,
    "tags": []
   },
   "source": [
    "### possible solution"
   ]
  },
  {
   "cell_type": "code",
   "execution_count": null,
   "id": "a9594130-d655-44f6-b121-7fb818ae5ea1",
   "metadata": {},
   "outputs": [],
   "source": [
    "plt.figure()\n",
    "# GET DATA TO PLOT\n",
    "data = run[\"primary\"][\"data\"].read([\"sx\",\"dif_beam_stats3_total\",\"stemp_temp_B_T\"]) #makes multi-D Xarray, not a large pandas DataFrame \n",
    "X = data[\"sx\"]\n",
    "Y = data[\"dif_beam_stats3_total\"]\n",
    "plt.plot(X, Y)\n",
    "\n",
    "# PLOT AXES LABELS AND TITLE\n",
    "plt.ylabel(Y.name); plt.xlabel(X.name+\" , \"+data['sx'].attrs['units_string'])\n",
    "plt.title(f'{run.start[\"scan_id\"]}\\n{run.start[\"uid\"][0:8]}')"
   ]
  },
  {
   "cell_type": "markdown",
   "id": "e5f37501-7edb-46b8-b0f8-b2f6290b5886",
   "metadata": {
    "tags": []
   },
   "source": [
    "### Which temperature is this?"
   ]
  },
  {
   "cell_type": "code",
   "execution_count": null,
   "id": "209ff668-3f6c-40ee-83ec-9bc14bfa4399",
   "metadata": {},
   "outputs": [],
   "source": []
  },
  {
   "cell_type": "code",
   "execution_count": null,
   "id": "ff76464f-ebe9-4061-a296-3d7a5deb9b23",
   "metadata": {},
   "outputs": [],
   "source": []
  },
  {
   "cell_type": "markdown",
   "id": "ab8d7082-a27f-42e1-afcd-38042df74b60",
   "metadata": {
    "jp-MarkdownHeadingCollapsed": true,
    "tags": []
   },
   "source": [
    "\n",
    "### Is it in the `primary` stream?"
   ]
  },
  {
   "cell_type": "code",
   "execution_count": null,
   "id": "28955fd1-ffa2-441f-a6d5-8a7535c7e5b9",
   "metadata": {},
   "outputs": [],
   "source": [
    "data[\"stemp_temp_B_T\"]"
   ]
  },
  {
   "cell_type": "code",
   "execution_count": null,
   "id": "6aee9bfe-69b9-458f-b0f5-69f1d089f6f0",
   "metadata": {},
   "outputs": [],
   "source": [
    "type(data[\"stemp_temp_B_T\"])"
   ]
  },
  {
   "cell_type": "code",
   "execution_count": null,
   "id": "c2fc239a-e4b7-4e3d-8cce-1551bf0a90c5",
   "metadata": {},
   "outputs": [],
   "source": [
    "print('test it {}.'.format( data.mean()[\"stemp_temp_B_T\"] ) )"
   ]
  },
  {
   "cell_type": "code",
   "execution_count": null,
   "id": "8947559b-94ff-47a1-ac57-857039d7223c",
   "metadata": {},
   "outputs": [],
   "source": [
    "data.mean()"
   ]
  },
  {
   "cell_type": "code",
   "execution_count": null,
   "id": "ebd51a50-01f6-45fc-9e54-09a5302d6f5e",
   "metadata": {},
   "outputs": [],
   "source": [
    "print(\"pandas dataframe\\t\", data[\"stemp_temp_B_T\"].to_dataframe().mean()[0])\n",
    "print(\"numpy array\\t\\t\", np.mean(data[\"stemp_temp_B_T\"].to_numpy()) )\n",
    "#data[\"stemp_temp_B_T\"].to_dataset().mean()"
   ]
  },
  {
   "cell_type": "code",
   "execution_count": null,
   "id": "113997a8-3bc5-46a5-ac7d-468c9d42acf4",
   "metadata": {},
   "outputs": [],
   "source": [
    "temperature=data[\"stemp_temp_B_T\"]\n",
    "Tavg, Tstd = np.mean(temperature.to_numpy()), np.std(temperature.to_numpy())"
   ]
  },
  {
   "cell_type": "markdown",
   "id": "1d455432-a4e9-4ec7-82e4-17a4f96cdc25",
   "metadata": {
    "tags": []
   },
   "source": [
    "### Let's improve more\n",
    "- add temperature of scan\n",
    "- apply numerical derivative\n",
    "    - fit the peak and find the center\n",
    "    - peak FWHM provides some measure of resolution"
   ]
  },
  {
   "cell_type": "code",
   "execution_count": null,
   "id": "6bc0cf02-c457-4a0f-a517-4bc2be8ac5a0",
   "metadata": {},
   "outputs": [],
   "source": [
    "fig, axes = plt.subplots(1,2, figsize=(10,5))\n",
    "# GET DATA TO PLOT\n",
    "data = run[\"primary\"][\"data\"].read([\"sx\",\"dif_beam_stats3_total\",\"stemp_temp_B_T\"]) #makes multi-D Xarray, not a large pandas DataFrame \n",
    "X = data[\"sx\"]\n",
    "Y = data[\"dif_beam_stats3_total\"]\n",
    "ax = axes[0]\n",
    "ax.plot(X, Y)\n",
    "\n",
    "# PLOT AXES LABELS AND TITLE\n",
    "ax.set_ylabel(Y.name); ax.set_xlabel(X.name+\" , \"+data['sx'].attrs['units_string'])\n",
    "ax.set_title(f'{run.start[\"scan_id\"]}\\n{run.start[\"uid\"][0:8]}')\n",
    "ax.legend()\n",
    "\n",
    "ax = axes[1]\n",
    "### Caluated numerical derivative and plot it"
   ]
  },
  {
   "cell_type": "markdown",
   "id": "b4880f4d-a9b6-49e5-8512-353cecaa5e7f",
   "metadata": {
    "jp-MarkdownHeadingCollapsed": true,
    "tags": []
   },
   "source": [
    "### **possible solution**"
   ]
  },
  {
   "cell_type": "code",
   "execution_count": null,
   "id": "1b574345-071d-43a2-ac57-1b3aecfe47e7",
   "metadata": {
    "tags": []
   },
   "outputs": [],
   "source": [
    "fig, axes = plt.subplots(1,2, figsize=(10,5))\n",
    "# GET DATA TO PLOT\n",
    "data = run[\"primary\"][\"data\"].read([\"sx\",\"dif_beam_stats3_total\",\"stemp_temp_B_T\"]) # REMEMBER makes multi-D Xarray, not a large pandas DataFrame like databroker V1\n",
    "X = data[\"sx\"]\n",
    "Y = data[\"dif_beam_stats3_total\"]\n",
    "ax = axes[0]\n",
    "ax.plot(X, Y, label=f'{Tavg:.1f} $\\pm$ {Tstd:.3f}  {temperature.attrs[\"units_string\"]}')\n",
    "\n",
    "# PLOT AXES LABELS AND TITLE AND LEGEND\n",
    "ax.set_ylabel(Y.name); ax.set_xlabel(X.name+\" , \"+data['sx'].attrs['units_string'])\n",
    "ax.set_title(f'{run.start[\"scan_id\"]}\\n{run.start[\"uid\"][0:8]}')\n",
    "ax.legend()\n",
    "\n",
    "ax = axes[1]\n",
    "### USE PANDAS DATAFRAME for numerical derivative\n",
    "ax.set_title('numerical derivative')\n",
    "Xdf = X.to_dataframe().reset_index()[X.name]   # don't want \"time\" to be the index\n",
    "Ydf = Y.to_dataframe().reset_index()[Y.name]\n",
    "ax.plot(Xdf.rolling(window=2).mean(), Ydf.diff()/Xdf.diff())\n",
    "ax.grid(True)\n",
    "\n",
    "print(f'Peak maximum at {(Ydf.diff()/Xdf.diff()).idxmax():^5} point')\n",
    "print(f'Peak maximum at {Xdf[(Ydf.diff()/Xdf.diff()).idxmax()]:^5.3f} for {Xdf.name}')\n"
   ]
  },
  {
   "cell_type": "code",
   "execution_count": null,
   "id": "836dec7c-b2b3-4c31-a20f-254e9b9d47b2",
   "metadata": {},
   "outputs": [],
   "source": []
  },
  {
   "cell_type": "markdown",
   "id": "7393e2b4-3bd2-490b-b5a0-c3d85e3fb09a",
   "metadata": {
    "tags": []
   },
   "source": [
    "### Before we fit all this data\n",
    "**are there problems in the data?**\n",
    "- inconsistencies of things recorded\n",
    "    - exposure times\n",
    "    - added or missing \"detectors\" or signals\n",
    "**are there incomplete scans?**\n",
    "- too small scan range \n",
    "- bluesky exception\n",
    "\n",
    "**where do we look or can we just plot it key parameters**"
   ]
  },
  {
   "cell_type": "code",
   "execution_count": null,
   "id": "34a6a47b-91d8-4e5c-b17c-3e68badb1b0f",
   "metadata": {},
   "outputs": [],
   "source": []
  },
  {
   "cell_type": "code",
   "execution_count": null,
   "id": "45f545ec-629a-4527-955f-e4f44e82b41b",
   "metadata": {},
   "outputs": [],
   "source": []
  },
  {
   "cell_type": "markdown",
   "id": "ef8f6751-a206-4b81-8ba5-b4f1fbdb417d",
   "metadata": {
    "jp-MarkdownHeadingCollapsed": true,
    "tags": []
   },
   "source": [
    "### "
   ]
  },
  {
   "cell_type": "code",
   "execution_count": null,
   "id": "9ea409f9-fb1f-4dc2-9cce-6f69b3c7e4c3",
   "metadata": {},
   "outputs": [],
   "source": [
    "list(run.primary.config[\"dif_beam\"])"
   ]
  },
  {
   "cell_type": "code",
   "execution_count": null,
   "id": "4a99cef3-c84c-4f83-9926-2586bed276ab",
   "metadata": {},
   "outputs": [],
   "source": [
    "%matplotlib widget"
   ]
  },
  {
   "cell_type": "code",
   "execution_count": null,
   "id": "35d81c56-d322-40f6-85ea-4a1f15550b84",
   "metadata": {},
   "outputs": [],
   "source": [
    "print(f'{len(runs)} possible good scans')"
   ]
  },
  {
   "cell_type": "markdown",
   "id": "1efddc36-f1c7-47fb-9330-e9bb4fd7c89f",
   "metadata": {
    "tags": []
   },
   "source": [
    "### CHOOSE YOUR PLOT when you return only good data\n",
    "- all data, with bad marked `##### no change...` *lines 18 - 33* *lines 18 - 33*\n",
    "- only bad data  `##### MOVE BLOCK INDENTION +2...` *lines 18 - 33*\n",
    "- only completed `#### UNCOMMENT this line to...` *lines 16*\n",
    "- only good data\n",
    "\n",
    "*what is good versus bad data?*"
   ]
  },
  {
   "cell_type": "code",
   "execution_count": null,
   "id": "a9c0b2ea-2d74-4226-bc69-f35ee9f85084",
   "metadata": {
    "tags": []
   },
   "outputs": [],
   "source": [
    "colors = cycle(cm.get_cmap('viridis')(np.linspace(0, 1, len(runs))))\n",
    "scans_final = []\n",
    "plot_it = True\n",
    "\n",
    "fig, axes = plt.subplots(1,2, figsize=(15,5), sharex=True)\n",
    "for run in runs.values():\n",
    "    if run.stop[\"exit_status\"] == \"success\":\n",
    "        scans_final.append(run.start[\"scan_id\"]) # add successful scan to the list of potentially good scans\n",
    "        color=next(colors) #advance marker color\n",
    "        plot_it = True\n",
    "        \n",
    "        \n",
    "    else:\n",
    "        color = 'r'\n",
    "        mfc = 'w'\n",
    "        plot_it = False   #### UNCOMMENT this line to  (** plot bluesky completed scans **)\n",
    "        \n",
    "    ##### MOVE BLOCK INDENTION +2 tabs and keep #plot_it commented out (**bad data plot only**)\n",
    "    ##### MOVE BLOCK INDENTION +1 tab  and keep #plot_it commented out (**    all data      **)\n",
    "    try:\n",
    "        temperature = run.primary.data[\"stemp_temp_B_T\"]\n",
    "        mfc = color #marker face color\n",
    "    except:\n",
    "        temperature = run.baseline.data[\"stemp_temp_B_T\"]\n",
    "        mfc = 'w'  \n",
    "        #plot_it = False  ### MAYBE THIS IS BAD DATA\n",
    "    if plot_it:\n",
    "        Tavg, Tstd = np.mean(temperature.to_numpy()), np.std(temperature.to_numpy())\n",
    "        axes[0].plot(run.start[\"scan_id\"], run.primary.config[\"dif_beam\"][\"dif_beam_cam_acquire_time\"],'o', c=color, ms=15, )\n",
    "        axes[0].set(ylabel='exposure time', xlabel='scan_id')\n",
    "        axes[1].plot(run.start[\"scan_id\"], Tavg, 'o', c=color, mfc=mfc, ms=15, )\n",
    "        axes[1].set(ylabel='temperature', xlabel='scan_id')\n",
    "     #######\n",
    "\n",
    "        \n",
    "print(f'{len(scans_final)} of {len(runs)} possible good scans')"
   ]
  },
  {
   "cell_type": "code",
   "execution_count": null,
   "id": "9fe1156c-92b7-4469-a573-5becaff33c3b",
   "metadata": {},
   "outputs": [],
   "source": []
  },
  {
   "cell_type": "markdown",
   "id": "0a916a82-6238-4dc0-b7cf-7bed9bc474c7",
   "metadata": {
    "tags": []
   },
   "source": [
    "### Lets see what we have, but not overwrite starting dataset"
   ]
  },
  {
   "cell_type": "code",
   "execution_count": null,
   "id": "2db76607-095b-4de2-a966-12238356d173",
   "metadata": {
    "tags": []
   },
   "outputs": [],
   "source": [
    "runs_final = csx[scans_final]\n",
    "runs_final[0:7]"
   ]
  },
  {
   "cell_type": "code",
   "execution_count": null,
   "id": "babf45fc-3ad3-4399-b48b-e3f5f2b35a8f",
   "metadata": {
    "tags": []
   },
   "outputs": [],
   "source": [
    "[ run.metadata[\"start\"][\"detectors\"] for run in runs_final[0:7]]"
   ]
  },
  {
   "cell_type": "code",
   "execution_count": null,
   "id": "7c0df848-525b-4b05-924f-103fcc880492",
   "metadata": {
    "tags": []
   },
   "outputs": [],
   "source": [
    "[ list(run.primary[\"data\"]) for run in runs_final[0:7] ]"
   ]
  },
  {
   "cell_type": "code",
   "execution_count": null,
   "id": "e1072e05-5e8a-458b-b2ba-96fc3d9a1bfd",
   "metadata": {},
   "outputs": [],
   "source": [
    "\n",
    "def get_deriv_max(Xdataframe, Ydataframe):\n",
    "    Yd_der = ( Ydataframe.diff()/Xdataframe.diff() )\n",
    "    #print(f'Peak maximum at {Yd_der:^5} point')\n",
    "    Xd_max = Xdataframe[ ( Yd_der ).idxmax() ]\n",
    "    #print(f'Peak maximum at {Xdataframe[Ydf.diff().idxmax()]:^5.3f} for {X.name}')\n",
    "    return Xd_max, Yd_der"
   ]
  },
  {
   "cell_type": "code",
   "execution_count": null,
   "id": "49f1ddde-605f-4fb2-a635-9ab4db1e7081",
   "metadata": {
    "tags": []
   },
   "outputs": [],
   "source": [
    "colors = cycle(cm.get_cmap('viridis')(np.linspace(0, 1, len(runs))))\n",
    "my_Tavg = []\n",
    "my_Xinfl= []\n",
    "my_Tstd = []\n",
    "\n",
    "fig, axes = plt.subplots(1,2, figsize=(10,5))                     ### ALL SCANS IN ONE PLOT\n",
    "#fig, axes = plt.subplots(len(runs),2, figsize=(10,5*len(runs)))  ### INDIVIDUAL PLOTS FOR EACH SCAN\n",
    "for run in runs_final:\n",
    "#for i, run in enumerate(runs):\n",
    "    color = next(colors)\n",
    "    ########## SHAMELESS COPY FROM ABOVE ##############\n",
    "    #\n",
    "    try:\n",
    "        temperature = run.primary.data[\"stemp_temp_B_T\"]\n",
    "    except:\n",
    "        temperature = run.baseline.data[\"stemp_temp_B_T\"]\n",
    "    Tavg, Tstd = np.mean(temperature.to_numpy()), np.std(temperature.to_numpy())\n",
    "    #\n",
    "    ########## SHAMELESS COPY FROM ABOVE ##############\n",
    "    # With custom color marker\n",
    "    #\n",
    "    \n",
    "    # GET DATA TO PLOT\n",
    "    data = run[\"primary\"][\"data\"].read([\"sx\",\"dif_beam_stats3_total\",\"stemp_temp_B_T\"]) # REMEMBER makes multi-D Xarray, not a large pandas DataFrame like databroker V1\n",
    "    X = data[\"sx\"]\n",
    "    Y = data[\"dif_beam_stats3_total\"]\n",
    "    ax = axes[0]        ### ALL SCANS IN ONE PLOT\n",
    "    #ax = axes[i,0]     ### INDIVIDUAL PLOTS FOR EACH SCAN\n",
    "    ax.plot(X, Y, label=f'{Tavg:.1f} $\\pm$ {Tstd:.3f}  {temperature.attrs[\"units_string\"]}', color=color)\n",
    "\n",
    "    # PLOT AXES LABELS AND TITLE AND LEGEND\n",
    "    ax.set_ylabel(Y.name); ax.set_xlabel(X.name+\" , \"+data['sx'].attrs['units_string'])\n",
    "    ax.set_title(f'{run.start[\"scan_id\"]}\\n{run.start[\"uid\"][0:8]}')\n",
    "    ax.legend()\n",
    "\n",
    "    ax = axes[1]        ### ALL SCANS IN ONE PLOT\n",
    "    #ax = axes[i,1]     ### INDIVIDUAL PLOTS FOR EACH SCAN\n",
    "    \n",
    "    ### USE PANDAS DATAFRAME for numerical derivative\n",
    "    ax.set_title('numerical derivative')\n",
    "    Xdf = X.to_dataframe().reset_index()[X.name]   # don't want \"time\" to be the index\n",
    "    Ydf = Y.to_dataframe().reset_index()[Y.name]   # don't want \"time\" to be the index\n",
    "    ax.plot(Xdf.rolling(window=2).mean(), Ydf.diff()/Xdf.diff(), color=color)\n",
    "    ax.grid(True)\n",
    "    \n",
    "    ### ADDED EXTRACTION of inflection point (aka maximum of first derivative)\n",
    "    ### ADDED EXTRACTION of temperature data\n",
    "    Xinflection, _ = get_deriv_max(Xdf, Ydf)\n",
    "    my_Tavg.append(Tavg)\n",
    "    my_Xinfl.append(Xinflection)\n",
    "    my_Tstd.append(Tstd)\n",
    "\n",
    "runs_x_y_yerr =  {'sx':my_Xinfl , 'Tavg':my_Tavg, 'Tstd':my_Tstd  } #MAKE A DICTIONARY FROM LISTS"
   ]
  },
  {
   "cell_type": "code",
   "execution_count": null,
   "id": "d4c96ae9-37c6-4b81-8ae7-221d43f53a49",
   "metadata": {},
   "outputs": [],
   "source": [
    "print(len(scans_final))\n",
    "print(len(runs_final))\n",
    "print(len(runs_x_y_yerr))"
   ]
  },
  {
   "cell_type": "code",
   "execution_count": null,
   "id": "f0e062be-ca05-4214-885b-f14a563653a9",
   "metadata": {},
   "outputs": [],
   "source": []
  },
  {
   "cell_type": "code",
   "execution_count": null,
   "id": "b8d821e3-97fe-4930-8698-4a8665c6a917",
   "metadata": {},
   "outputs": [],
   "source": [
    "plt.figure()\n",
    "plt.errorbar(runs_x_y_yerr[\"Tavg\"], runs_x_y_yerr[\"sx\"], yerr=runs_x_y_yerr[\"Tstd\"], marker='.', ls='none',capsize=5 )\n",
    "plt.xlabel('Temperature [K]')\n",
    "plt.ylabel('Sample Position X [mm]')\n",
    "plt.title('Thermal Expansion of Cryostat')\n",
    "plt.grid(True)"
   ]
  },
  {
   "cell_type": "code",
   "execution_count": null,
   "id": "5b923040-9837-4b8e-86e4-04420c0abfb1",
   "metadata": {},
   "outputs": [],
   "source": []
  },
  {
   "cell_type": "code",
   "execution_count": null,
   "id": "5ce2da15-2188-4ebd-84cd-43118936513f",
   "metadata": {},
   "outputs": [],
   "source": []
  }
 ],
 "metadata": {
  "kernelspec": {
   "display_name": "Python 3",
   "language": "python",
   "name": "python3"
  },
  "language_info": {
   "codemirror_mode": {
    "name": "ipython",
    "version": 3
   },
   "file_extension": ".py",
   "mimetype": "text/x-python",
   "name": "python",
   "nbconvert_exporter": "python",
   "pygments_lexer": "ipython3",
   "version": "3.9.12"
  }
 },
 "nbformat": 4,
 "nbformat_minor": 5
}
