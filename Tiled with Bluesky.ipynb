{
 "cells": [
  {
   "cell_type": "markdown",
   "id": "b5e365f9",
   "metadata": {},
   "source": [
    "# Tiled with Data from Bluesky"
   ]
  },
  {
   "cell_type": "markdown",
   "id": "7d4f023c",
   "metadata": {},
   "source": [
    "## Connect to a Tiled Service"
   ]
  },
  {
   "cell_type": "code",
   "execution_count": null,
   "id": "930805eb",
   "metadata": {},
   "outputs": [],
   "source": [
    "from tiled.client import from_uri"
   ]
  },
  {
   "cell_type": "code",
   "execution_count": null,
   "id": "94f8e8c8",
   "metadata": {},
   "outputs": [],
   "source": [
    "c = from_uri(\"https://tiled-demo.blueskyproject.io/api\")\n",
    "c"
   ]
  },
  {
   "cell_type": "markdown",
   "id": "0f161599",
   "metadata": {},
   "source": [
    "## Navigate to a Catalog of Bluesky Runs"
   ]
  },
  {
   "cell_type": "code",
   "execution_count": null,
   "id": "fcafc0f4",
   "metadata": {},
   "outputs": [],
   "source": [
    "bmm = c['bmm']['raw']\n",
    "bmm"
   ]
  },
  {
   "cell_type": "markdown",
   "id": "8b5060dc",
   "metadata": {},
   "source": [
    "Tiled has a mechanism to communicate that this data has a certain \"specification\" (in this case, a catalog of Bluesky runs) and we use this to display useful information, provide certain conveniences, and achieve speed-ups."
   ]
  },
  {
   "cell_type": "markdown",
   "id": "3b9cc411",
   "metadata": {},
   "source": [
    "**Aside:** For users who have used Databroker before, compare this to what the \"old way\" would show:\n",
    "\n",
    "```python\n",
    ">>> db\n",
    "<databroker.v1.Broker at 0x7fb66f1cbd50>  # <-- Not as useful!\n",
    "```"
   ]
  },
  {
   "cell_type": "markdown",
   "id": "1b3a6417",
   "metadata": {},
   "source": [
    "## Access a specific Bluesky Run"
   ]
  },
  {
   "cell_type": "code",
   "execution_count": null,
   "id": "31be6732",
   "metadata": {},
   "outputs": [],
   "source": [
    "bmm[22521]  # Access (latest) scan_id 22521."
   ]
  },
  {
   "cell_type": "markdown",
   "id": "5922f54a",
   "metadata": {},
   "source": [
    "**Aside:** For users who have used Databroker before, compare this to what the \"old way\" would show:\n",
    "\n",
    "```python\n",
    ">>> db[22521]\n",
    "<databroker.v1.Header object at 0x7fb66f1e3ed0>  # <-- Not as useful!\n",
    "```"
   ]
  },
  {
   "cell_type": "markdown",
   "id": "213d7ae7",
   "metadata": {},
   "source": [
    "## Drill in to get data of interest"
   ]
  },
  {
   "cell_type": "code",
   "execution_count": null,
   "id": "339047e6",
   "metadata": {},
   "outputs": [],
   "source": [
    "bmm[22521]['primary']"
   ]
  },
  {
   "cell_type": "code",
   "execution_count": null,
   "id": "21782094",
   "metadata": {},
   "outputs": [],
   "source": [
    "bmm[22521]['primary']['data']"
   ]
  },
  {
   "cell_type": "code",
   "execution_count": null,
   "id": "8a57b5d3",
   "metadata": {},
   "outputs": [],
   "source": [
    "bmm[22521]['primary']['data'].read()"
   ]
  },
  {
   "cell_type": "code",
   "execution_count": null,
   "id": "7d6fcf30",
   "metadata": {},
   "outputs": [],
   "source": [
    "bmm[22521]['primary']['data'][\"I0\"]"
   ]
  },
  {
   "cell_type": "code",
   "execution_count": null,
   "id": "ec07aa30",
   "metadata": {},
   "outputs": [],
   "source": [
    "bmm[22521]['primary']['data'].read([\"dcm_energy\", \"I0\", \"It\"])"
   ]
  },
  {
   "cell_type": "code",
   "execution_count": null,
   "id": "6d6deae1",
   "metadata": {},
   "outputs": [],
   "source": [
    "bmm[22521]['primary']['data'].export(\"data.csv\", variables=[\"dcm_energy\", \"I0\", \"It\"])"
   ]
  },
  {
   "cell_type": "markdown",
   "id": "aae4b9af",
   "metadata": {},
   "source": [
    "## Small convenience functions are your friend!"
   ]
  },
  {
   "cell_type": "code",
   "execution_count": null,
   "id": "ffc47862",
   "metadata": {},
   "outputs": [],
   "source": [
    "def load_scan(scan_id):\n",
    "    return bmm[scan_id]['primary']['data'].read([\"I0\", \"It\"])"
   ]
  },
  {
   "cell_type": "code",
   "execution_count": null,
   "id": "4b38f44d",
   "metadata": {},
   "outputs": [],
   "source": [
    "load_scan(22521)"
   ]
  },
  {
   "cell_type": "markdown",
   "id": "86e63a7d",
   "metadata": {},
   "source": [
    "## Access metadata"
   ]
  },
  {
   "cell_type": "code",
   "execution_count": null,
   "id": "89b97216",
   "metadata": {},
   "outputs": [],
   "source": [
    "bmm[22521].metadata  # Spoiler alert: there is a lot!"
   ]
  },
  {
   "cell_type": "markdown",
   "id": "4b756358",
   "metadata": {},
   "source": [
    "## Search"
   ]
  },
  {
   "cell_type": "code",
   "execution_count": null,
   "id": "32475515",
   "metadata": {},
   "outputs": [],
   "source": [
    "bmm"
   ]
  },
  {
   "cell_type": "code",
   "execution_count": null,
   "id": "86b83036",
   "metadata": {},
   "outputs": [],
   "source": [
    "from databroker.queries import TimeRange, FullText\n",
    "\n",
    "bmm.search(TimeRange(since=\"2020-4-1\", until=\"2021-10-31\"))"
   ]
  },
  {
   "cell_type": "markdown",
   "id": "3464b7ff",
   "metadata": {},
   "source": [
    "Does that feel verbose? Again, convenience functions are your friend."
   ]
  },
  {
   "cell_type": "code",
   "execution_count": null,
   "id": "436f9366",
   "metadata": {},
   "outputs": [],
   "source": [
    "def Since(since):\n",
    "    return TimeRange(since=since)"
   ]
  },
  {
   "cell_type": "code",
   "execution_count": null,
   "id": "8cfa4074",
   "metadata": {},
   "outputs": [],
   "source": [
    "bmm.search(Since(\"2020-4-1\"))"
   ]
  },
  {
   "cell_type": "markdown",
   "id": "781806c4",
   "metadata": {},
   "source": [
    "### Chain searches to progressively narrow results"
   ]
  },
  {
   "cell_type": "code",
   "execution_count": null,
   "id": "c889f451",
   "metadata": {},
   "outputs": [],
   "source": [
    "bmm.search(Since(\"2020\")).search(FullText(\"Ni\"))"
   ]
  },
  {
   "cell_type": "markdown",
   "id": "30bf4256",
   "metadata": {},
   "source": [
    "**Aside:** For users who have used Databroker before, compare this to what the \"old way\" would return:\n",
    "\n",
    "```python\n",
    ">>> db(\"Ni\")\n",
    "<databroker.v1.Results at 0x7fb66e8b8610>  # <-- Not as useful!\n",
    "```"
   ]
  },
  {
   "cell_type": "markdown",
   "id": "7822d2a7",
   "metadata": {},
   "source": [
    "### Count results"
   ]
  },
  {
   "cell_type": "code",
   "execution_count": null,
   "id": "14ca366b",
   "metadata": {},
   "outputs": [],
   "source": [
    "results = bmm.search(Since(\"2020\"))\n",
    "\n",
    "len(results)"
   ]
  },
  {
   "cell_type": "markdown",
   "id": "72157e9d",
   "metadata": {},
   "source": [
    "### Access the first result"
   ]
  },
  {
   "cell_type": "code",
   "execution_count": null,
   "id": "2ca0b5f7",
   "metadata": {},
   "outputs": [],
   "source": [
    "results.values_indexer[0]"
   ]
  },
  {
   "cell_type": "markdown",
   "id": "b31991a0",
   "metadata": {},
   "source": [
    "### Access the first N results"
   ]
  },
  {
   "cell_type": "code",
   "execution_count": null,
   "id": "595df31b",
   "metadata": {},
   "outputs": [],
   "source": [
    "results.values_indexer[:5]"
   ]
  },
  {
   "cell_type": "markdown",
   "id": "8de6945d",
   "metadata": {},
   "source": [
    "### Loop over search results"
   ]
  },
  {
   "cell_type": "code",
   "execution_count": null,
   "id": "34d2bc4e",
   "metadata": {},
   "outputs": [],
   "source": [
    "for result in results.values():\n",
    "    # Do something useful here\n",
    "    print(result)\n",
    "    ...\n",
    "    break  # Remove this line to actually run the full loop."
   ]
  },
  {
   "cell_type": "markdown",
   "id": "12802bea",
   "metadata": {},
   "source": [
    "## Access large array (e.g. image time series) data\n",
    "\n",
    "There are a couple ways to do this. One is to use \"Dask\" to defer I/O (and, if you like, computation)."
   ]
  },
  {
   "cell_type": "code",
   "execution_count": null,
   "id": "5584c582",
   "metadata": {},
   "outputs": [],
   "source": [
    "c = from_uri(\"https://tiled-demo.blueskyproject.io/api\", \"dask\")"
   ]
  },
  {
   "cell_type": "code",
   "execution_count": null,
   "id": "f7b93c95",
   "metadata": {},
   "outputs": [],
   "source": [
    "c[\"fxi\"][\"raw\"][62611][\"primary\"][\"data\"][\"Andor_image\"]"
   ]
  },
  {
   "cell_type": "code",
   "execution_count": null,
   "id": "316a4b3a",
   "metadata": {},
   "outputs": [],
   "source": [
    "da = c[\"fxi\"][\"raw\"][62611][\"primary\"][\"data\"][\"Andor_image\"][22, 10]\n",
    "da"
   ]
  },
  {
   "cell_type": "code",
   "execution_count": null,
   "id": "d21bc4cf",
   "metadata": {},
   "outputs": [],
   "source": [
    "img = da.load()"
   ]
  },
  {
   "cell_type": "code",
   "execution_count": null,
   "id": "0c7f85fc",
   "metadata": {},
   "outputs": [],
   "source": [
    "%matplotlib widget\n",
    "\n",
    "import matplotlib.pyplot as plt\n",
    "plt.imshow(img)"
   ]
  },
  {
   "cell_type": "code",
   "execution_count": null,
   "id": "7c7cc86d",
   "metadata": {},
   "outputs": [],
   "source": []
  }
 ],
 "metadata": {
  "kernelspec": {
   "display_name": "Python 3",
   "language": "python",
   "name": "python3"
  },
  "language_info": {
   "codemirror_mode": {
    "name": "ipython",
    "version": 3
   },
   "file_extension": ".py",
   "mimetype": "text/x-python",
   "name": "python",
   "nbconvert_exporter": "python",
   "pygments_lexer": "ipython3",
   "version": "3.8.5"
  }
 },
 "nbformat": 4,
 "nbformat_minor": 5
}
