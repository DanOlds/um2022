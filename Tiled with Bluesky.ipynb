{
 "cells": [
  {
   "cell_type": "markdown",
   "id": "4394b077-738e-4bb3-8d7c-0f2bba801380",
   "metadata": {},
   "source": [
    "# Tiled with Data from Bluesky"
   ]
  },
  {
   "cell_type": "markdown",
   "id": "789f9459-2e4e-4770-8b45-5b60b7f156ba",
   "metadata": {},
   "source": [
    "## Connect to a Tiled Service"
   ]
  },
  {
   "cell_type": "code",
   "execution_count": null,
   "id": "322e7711-f2f6-4da7-8881-b3e992772bd8",
   "metadata": {},
   "outputs": [],
   "source": [
    "from tiled.client import from_uri"
   ]
  },
  {
   "cell_type": "code",
   "execution_count": null,
   "id": "8af88d3c-cd4b-43f4-8b92-d5fc342664b3",
   "metadata": {},
   "outputs": [],
   "source": [
    "c = from_uri(\"https://tiled-demo.blueskyproject.io/api\")\n",
    "c"
   ]
  },
  {
   "cell_type": "markdown",
   "id": "1cb89df5-1a53-4674-ad01-b4ff4c37264e",
   "metadata": {},
   "source": [
    "## Navigate to a Catalog of Bluesky Runs"
   ]
  },
  {
   "cell_type": "code",
   "execution_count": null,
   "id": "31f65340-68ce-4a5f-9f21-f4402ae11183",
   "metadata": {},
   "outputs": [],
   "source": [
    "bmm = c['bmm']['raw']\n",
    "bmm"
   ]
  },
  {
   "cell_type": "markdown",
   "id": "2b5070bb-e1de-4aa0-acc9-b9a1f2489ee9",
   "metadata": {},
   "source": [
    "Tiled has a mechanism to communicate that this data has a certain \"specification\" (in this case, a catalog of Bluesky runs) and we use this to display useful information, provide certain conveniences, and achieve speed-ups."
   ]
  },
  {
   "cell_type": "markdown",
   "id": "dbe80795-ecee-4b6e-beb3-789c78958818",
   "metadata": {},
   "source": [
    "**Aside:** For users who have used Databroker before, compare this to what the \"old way\" would show:\n",
    "\n",
    "```python\n",
    ">>> db\n",
    "<databroker.v1.Broker at 0x7fb66f1cbd50>  # <-- Not as useful!\n",
    "```"
   ]
  },
  {
   "cell_type": "markdown",
   "id": "03b654df-0aef-4abc-947f-0d3e64e71ac5",
   "metadata": {},
   "source": [
    "## Access a specific Bluesky Run"
   ]
  },
  {
   "cell_type": "code",
   "execution_count": null,
   "id": "908b193a-ee7f-45e0-8eec-0425ac1e65fa",
   "metadata": {},
   "outputs": [],
   "source": [
    "from databroker import Broker\n",
    "db = Broker(bmm)\n",
    "repr(db[22521])"
   ]
  },
  {
   "cell_type": "code",
   "execution_count": null,
   "id": "2b110a3f-d1bd-40f6-bacd-bc0bd7a34343",
   "metadata": {},
   "outputs": [],
   "source": [
    "bmm[22521]  # Access (latest) scan_id 22521."
   ]
  },
  {
   "cell_type": "markdown",
   "id": "a3b1ecd6-3ff7-4eef-b4f1-e2bb19624a0d",
   "metadata": {},
   "source": [
    "**Aside:** For users who have used Databroker before, compare this to what the \"old way\" would show:\n",
    "\n",
    "```python\n",
    ">>> db[22521]\n",
    "<databroker.v1.Header object at 0x7fb66f1e3ed0>  # <-- Not as useful!\n",
    "```"
   ]
  },
  {
   "cell_type": "markdown",
   "id": "32545eaa-cfc8-4f1f-ba27-10845d010985",
   "metadata": {},
   "source": [
    "## Drill in to get data of interest"
   ]
  },
  {
   "cell_type": "code",
   "execution_count": null,
   "id": "9dfe0d8f-e9cd-4f9c-88ae-522eaf0513ff",
   "metadata": {},
   "outputs": [],
   "source": [
    "bmm[22521]['primary']"
   ]
  },
  {
   "cell_type": "code",
   "execution_count": null,
   "id": "a44e6dbb-4a5f-49fb-8994-75ac903ac2a8",
   "metadata": {},
   "outputs": [],
   "source": [
    "bmm[22521]['primary']['data']"
   ]
  },
  {
   "cell_type": "code",
   "execution_count": null,
   "id": "cf3c452e-49ad-4a98-b980-9f61fca04e13",
   "metadata": {},
   "outputs": [],
   "source": [
    "bmm[22521]['primary']['data'].read()"
   ]
  },
  {
   "cell_type": "code",
   "execution_count": null,
   "id": "903fed46-371f-48b5-baed-e5c0ed3eaf91",
   "metadata": {},
   "outputs": [],
   "source": [
    "bmm[22521]['primary']['data'][\"I0\"]"
   ]
  },
  {
   "cell_type": "code",
   "execution_count": null,
   "id": "1142f61a-69c6-404e-941f-b9f08e522a8a",
   "metadata": {},
   "outputs": [],
   "source": [
    "bmm[22521]['primary']['data'].read([\"I0\", \"It\"])"
   ]
  },
  {
   "cell_type": "markdown",
   "id": "d880c64b-679e-4b2d-9a4a-f09f6d05eef4",
   "metadata": {},
   "source": [
    "## Small convenience functions are your friend!"
   ]
  },
  {
   "cell_type": "code",
   "execution_count": null,
   "id": "8da1416c-156d-48da-bf89-0a8e1c54e793",
   "metadata": {},
   "outputs": [],
   "source": [
    "def load_scan(scan_id):\n",
    "    return bmm[scan_id]['primary']['data'].read([\"I0\", \"It\"])"
   ]
  },
  {
   "cell_type": "code",
   "execution_count": null,
   "id": "66706c93-6242-417d-b2e1-11e81139865c",
   "metadata": {},
   "outputs": [],
   "source": [
    "load_scan(22521)"
   ]
  },
  {
   "cell_type": "markdown",
   "id": "f2987fe8-d0b7-4658-8785-dfda255306a8",
   "metadata": {},
   "source": [
    "## Access metadata"
   ]
  },
  {
   "cell_type": "code",
   "execution_count": null,
   "id": "83069bae-5442-4cc4-9b11-28bb3bebef88",
   "metadata": {},
   "outputs": [],
   "source": [
    "bmm[22521].metadata  # Spoiler alert: there is a lot!"
   ]
  },
  {
   "cell_type": "markdown",
   "id": "9bf34214-e13c-4886-b314-f743d302fb62",
   "metadata": {},
   "source": [
    "## Search"
   ]
  },
  {
   "cell_type": "code",
   "execution_count": null,
   "id": "bae0cd92-e31e-46df-b08b-22df88f0023d",
   "metadata": {},
   "outputs": [],
   "source": [
    "bmm"
   ]
  },
  {
   "cell_type": "code",
   "execution_count": null,
   "id": "8d418865-4b21-426d-923f-d46066ae3bdb",
   "metadata": {},
   "outputs": [],
   "source": [
    "from databroker.queries import TimeRange, FullText\n",
    "\n",
    "bmm.search(TimeRange(since=\"2020-4-1\", until=\"2021-10-31\"))"
   ]
  },
  {
   "cell_type": "markdown",
   "id": "2e77e9b0-efff-4814-89bf-3b742243dd81",
   "metadata": {},
   "source": [
    "Does that feel verbose? Again, convenience functions are your friend."
   ]
  },
  {
   "cell_type": "code",
   "execution_count": null,
   "id": "b14a7222-b752-4af5-b0ab-d75df9c67a66",
   "metadata": {},
   "outputs": [],
   "source": [
    "def Since(since):\n",
    "    return TimeRange(since=since)"
   ]
  },
  {
   "cell_type": "code",
   "execution_count": null,
   "id": "155c7b01-3764-4e16-b273-0e16603eb413",
   "metadata": {},
   "outputs": [],
   "source": [
    "bmm.search(Since(\"2020-4-1\"))"
   ]
  },
  {
   "cell_type": "markdown",
   "id": "71354197-efef-4322-b84e-1ef60c22f326",
   "metadata": {},
   "source": [
    "### Chain searches to progressively narrow results"
   ]
  },
  {
   "cell_type": "code",
   "execution_count": null,
   "id": "489d5d75-560e-4bb4-ba6e-026caeda6fc0",
   "metadata": {},
   "outputs": [],
   "source": [
    "bmm.search(Since(\"2020\")).search(FullText(\"Ni\"))"
   ]
  },
  {
   "cell_type": "markdown",
   "id": "ee424f2f-aebd-4e44-afde-07380286ced5",
   "metadata": {},
   "source": [
    "**Aside:** For users who have used Databroker before, compare this to what the \"old way\" would return:\n",
    "\n",
    "```python\n",
    ">>> db(\"Ni\")\n",
    "<databroker.v1.Results at 0x7fb66e8b8610>  # <-- Not as useful!\n",
    "```"
   ]
  },
  {
   "cell_type": "markdown",
   "id": "45920b6f-9f67-4488-813c-5b297af5f9dd",
   "metadata": {},
   "source": [
    "### Count results"
   ]
  },
  {
   "cell_type": "code",
   "execution_count": null,
   "id": "5c135126-76a2-438e-833b-ce40f9340d63",
   "metadata": {},
   "outputs": [],
   "source": [
    "results = bmm.search(Since(\"2020\"))\n",
    "\n",
    "len(results)"
   ]
  },
  {
   "cell_type": "markdown",
   "id": "9129d65e-ba81-416c-854a-97d3dfc6a1ea",
   "metadata": {},
   "source": [
    "### Access the first result"
   ]
  },
  {
   "cell_type": "code",
   "execution_count": null,
   "id": "9abf332d-45c0-400f-961e-509fdbb14747",
   "metadata": {},
   "outputs": [],
   "source": [
    "results.values_indexer[0]"
   ]
  },
  {
   "cell_type": "markdown",
   "id": "f9451fe0-80ae-478e-a6aa-6c17d3bb74aa",
   "metadata": {},
   "source": [
    "### Access the first N results"
   ]
  },
  {
   "cell_type": "code",
   "execution_count": null,
   "id": "0a2c1534-376d-4f6b-aacd-3d3a22982ea6",
   "metadata": {},
   "outputs": [],
   "source": [
    "results.values_indexer[:5]"
   ]
  },
  {
   "cell_type": "markdown",
   "id": "10074c86-8ba0-4f93-aab2-17c130f354d5",
   "metadata": {},
   "source": [
    "### Loop over search results"
   ]
  },
  {
   "cell_type": "code",
   "execution_count": null,
   "id": "4a1f9dc9-ab7d-4c89-a9c2-1174adb89401",
   "metadata": {},
   "outputs": [],
   "source": [
    "for result in results.values():\n",
    "    # Do something useful here\n",
    "    print(result)\n",
    "    ...\n",
    "    break  # Remove this line to actually run the full loop."
   ]
  },
  {
   "cell_type": "code",
   "execution_count": null,
   "id": "6dac11c7-56b1-438d-a194-a1433f1c7cfd",
   "metadata": {},
   "outputs": [],
   "source": []
  }
 ],
 "metadata": {
  "kernelspec": {
   "display_name": "Python 3 (ipykernel)",
   "language": "python",
   "name": "python3"
  },
  "language_info": {
   "codemirror_mode": {
    "name": "ipython",
    "version": 3
   },
   "file_extension": ".py",
   "mimetype": "text/x-python",
   "name": "python",
   "nbconvert_exporter": "python",
   "pygments_lexer": "ipython3",
   "version": "3.7.12"
  }
 },
 "nbformat": 4,
 "nbformat_minor": 5
}
