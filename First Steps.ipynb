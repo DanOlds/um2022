{
 "cells": [
  {
   "cell_type": "markdown",
   "id": "af529346-0183-411f-9603-eb5fe74bc4a3",
   "metadata": {},
   "source": [
    "# First Steps Accessing Data with Tiled"
   ]
  },
  {
   "cell_type": "markdown",
   "id": "65559cc9-601e-469b-9879-6fcf00d71c44",
   "metadata": {},
   "source": [
    "## Connect to a Tiled Service"
   ]
  },
  {
   "cell_type": "code",
   "execution_count": null,
   "id": "e32970b6-5ed1-4c44-9225-780dfdf0e97e",
   "metadata": {},
   "outputs": [],
   "source": [
    "from tiled.client import from_uri"
   ]
  },
  {
   "cell_type": "code",
   "execution_count": null,
   "id": "8f0c1471-14f4-4317-acfe-732822a2db1c",
   "metadata": {},
   "outputs": [],
   "source": [
    "c = from_uri(\"https://tiled-demo.blueskyproject.io/api\")\n",
    "c"
   ]
  },
  {
   "cell_type": "markdown",
   "id": "f57c5cba-8ad2-45b7-9a3c-3fee385fc7f1",
   "metadata": {},
   "source": [
    "## Walk down the tree to find some data"
   ]
  },
  {
   "cell_type": "code",
   "execution_count": null,
   "id": "e31d5626-240f-487d-99f2-983e35cb0ad0",
   "metadata": {},
   "outputs": [],
   "source": [
    "c['generated']"
   ]
  },
  {
   "cell_type": "code",
   "execution_count": null,
   "id": "fd38d430-1d62-402b-9693-7f85b636ca76",
   "metadata": {},
   "outputs": [],
   "source": [
    "ac = c['generated']['small_image']\n",
    "ac"
   ]
  },
  {
   "cell_type": "markdown",
   "id": "7fab2060-6f7c-4f51-af4d-8e430b7c7f47",
   "metadata": {},
   "source": [
    "## Access an array (like an image) in whole or in part"
   ]
  },
  {
   "cell_type": "code",
   "execution_count": null,
   "id": "539eb2af-bf0e-4c2c-a1b1-7d967b517c03",
   "metadata": {},
   "outputs": [],
   "source": [
    "ac.read()"
   ]
  },
  {
   "cell_type": "code",
   "execution_count": null,
   "id": "1a114e23-c806-4eab-861d-57ddf56f8ec9",
   "metadata": {},
   "outputs": [],
   "source": [
    "ac[:]  # equivalent to read(), may feel more familiar/obvious to some"
   ]
  },
  {
   "cell_type": "code",
   "execution_count": null,
   "id": "89b4ccb0-6361-4396-ba24-a5b4551423fb",
   "metadata": {},
   "outputs": [],
   "source": [
    "ac[:5, :5]  # slice any section, only \"pay\" for what you need"
   ]
  },
  {
   "cell_type": "markdown",
   "id": "a461e608-db35-4b08-871d-3cf808553856",
   "metadata": {},
   "source": [
    "## Export an array as a file in various formats"
   ]
  },
  {
   "cell_type": "code",
   "execution_count": null,
   "id": "8f9060e8-0e97-4ce9-8adc-e74872ec3dda",
   "metadata": {},
   "outputs": [],
   "source": [
    "ac.export(\"my_image.png\")"
   ]
  },
  {
   "cell_type": "code",
   "execution_count": null,
   "id": "bf77e088-1007-404c-af04-edbf5973b6c2",
   "metadata": {},
   "outputs": [],
   "source": [
    "ac.export(\"my_image.tif\")"
   ]
  },
  {
   "cell_type": "code",
   "execution_count": null,
   "id": "9e94e930-6d37-4446-85ec-51b1616b45ee",
   "metadata": {},
   "outputs": [],
   "source": [
    "ac.export(\"my_image.tiff\")"
   ]
  },
  {
   "cell_type": "code",
   "execution_count": null,
   "id": "4ef9ff2e-b5f8-49a6-8fbf-1238f594cb37",
   "metadata": {},
   "outputs": [],
   "source": [
    "ac.formats"
   ]
  },
  {
   "cell_type": "code",
   "execution_count": null,
   "id": "7d23bef0-c007-4444-a3c9-fdceb41872de",
   "metadata": {},
   "outputs": [],
   "source": [
    "ac.export(\"my_image.txt\", format='text/plain')"
   ]
  },
  {
   "cell_type": "markdown",
   "id": "618281f7-be9f-4fc2-ad79-c21326060d4e",
   "metadata": {},
   "source": [
    "## Find more contents"
   ]
  },
  {
   "cell_type": "code",
   "execution_count": null,
   "id": "fe05cd51-31ce-484c-935b-6c133b66a1b1",
   "metadata": {},
   "outputs": [],
   "source": [
    "c['generated']"
   ]
  },
  {
   "cell_type": "code",
   "execution_count": null,
   "id": "fcf3f812-31c0-4476-b923-c77d21f0242e",
   "metadata": {},
   "outputs": [],
   "source": [
    "list(c['generated'])"
   ]
  },
  {
   "cell_type": "code",
   "execution_count": null,
   "id": "78a5458c-904e-4ad0-bcf5-1567dc5cb182",
   "metadata": {},
   "outputs": [],
   "source": [
    "from tiled.utils import tree\n",
    "\n",
    "tree(c['generated'])"
   ]
  },
  {
   "cell_type": "markdown",
   "id": "7a94bcee-1522-448d-8ab6-257addfe0b80",
   "metadata": {},
   "source": [
    "## Access tabluar (\"dataframe\") data, in whole or in part"
   ]
  },
  {
   "cell_type": "code",
   "execution_count": null,
   "id": "4253c401-5c7d-4b63-89a0-32dc2fc49413",
   "metadata": {},
   "outputs": [],
   "source": [
    "dfc = c['generated']['short_table']\n",
    "dfc"
   ]
  },
  {
   "cell_type": "code",
   "execution_count": null,
   "id": "990ae98b-b45c-49a8-b1bd-976efbea487d",
   "metadata": {},
   "outputs": [],
   "source": [
    "dfc.metadata"
   ]
  },
  {
   "cell_type": "code",
   "execution_count": null,
   "id": "84caa6d7-f438-4afc-a162-36fe4a7c134d",
   "metadata": {},
   "outputs": [],
   "source": [
    "dfc.read()"
   ]
  },
  {
   "cell_type": "code",
   "execution_count": null,
   "id": "dee8f911-1075-4b52-884b-5a1e06b36f9a",
   "metadata": {},
   "outputs": [],
   "source": [
    "c['generated']['short_table'].read()"
   ]
  },
  {
   "cell_type": "code",
   "execution_count": null,
   "id": "04700786-2282-4f1e-83e7-b84595772575",
   "metadata": {},
   "outputs": [],
   "source": [
    "dfc['A']"
   ]
  },
  {
   "cell_type": "code",
   "execution_count": null,
   "id": "5e37e619-55ee-481c-b942-6bc95f0bef21",
   "metadata": {},
   "outputs": [],
   "source": [
    "dfc[['A', 'C']]"
   ]
  },
  {
   "cell_type": "code",
   "execution_count": null,
   "id": "956199fe-4b5a-4c86-a97d-97a2f9217045",
   "metadata": {},
   "outputs": [],
   "source": [
    "dfc.read(['A', 'C'])"
   ]
  },
  {
   "cell_type": "markdown",
   "id": "409cbf6a-a8f4-4fdd-8389-fa6e15ab6ad8",
   "metadata": {},
   "source": [
    "## Export tabular data in various formats"
   ]
  },
  {
   "cell_type": "code",
   "execution_count": null,
   "id": "a53e8e0c-4825-43f4-a773-b6438d99c780",
   "metadata": {},
   "outputs": [],
   "source": [
    "dfc.export('table.csv')"
   ]
  },
  {
   "cell_type": "code",
   "execution_count": null,
   "id": "ecb76cfa-b7a3-44b0-bb43-168979aab691",
   "metadata": {},
   "outputs": [],
   "source": [
    "dfc.export('table.xlsx')"
   ]
  },
  {
   "cell_type": "code",
   "execution_count": null,
   "id": "5a53a36c-a88a-4797-9c40-feef41541fa9",
   "metadata": {},
   "outputs": [],
   "source": [
    "dfc.formats"
   ]
  },
  {
   "cell_type": "markdown",
   "id": "9a25a6fe-52bc-4d57-b825-c8cd119d5a2f",
   "metadata": {},
   "source": [
    "## Loops"
   ]
  },
  {
   "cell_type": "code",
   "execution_count": null,
   "id": "0adb74c3-393c-490a-b3c8-a3e0795ac1ab",
   "metadata": {},
   "outputs": [],
   "source": [
    "stuff = c['um2022']['olds']['LaB6_fast']\n",
    "stuff"
   ]
  },
  {
   "cell_type": "code",
   "execution_count": null,
   "id": "3ed5e730-ea39-435b-80b8-be801a92d04f",
   "metadata": {},
   "outputs": [],
   "source": [
    "len(stuff)"
   ]
  },
  {
   "cell_type": "code",
   "execution_count": null,
   "id": "58510adc-2db1-496d-9c18-19458fa6cadc",
   "metadata": {},
   "outputs": [],
   "source": [
    "for key in stuff:\n",
    "    # Gives the names, like 'rand_LaB6_short_20210913-211322_6028a5_0001_mean_tth'\n",
    "    print(\"key:\", key)\n",
    "    print(\"stuff[key]:\", stuff[key])\n",
    "    break  # To actually complete the loop, remove this."
   ]
  },
  {
   "cell_type": "markdown",
   "id": "9f2cca68-a08b-4156-9194-2d9e3637534b",
   "metadata": {},
   "source": [
    "On dictionary-like objects,\n",
    "\n",
    "```python\n",
    "for key in stuff:\n",
    "    ...\n",
    "```\n",
    "\n",
    "is equivalent to:\n",
    "\n",
    "```python\n",
    "for key in stuff.keys():\n",
    "    ...\n",
    "```"
   ]
  },
  {
   "cell_type": "code",
   "execution_count": null,
   "id": "8ac04773-0021-4969-a81c-2acbbad924fa",
   "metadata": {},
   "outputs": [],
   "source": [
    "for value in stuff.values():\n",
    "    # Gives access to the data\n",
    "    print(\"value:\", value)\n",
    "    print(\"value.read():\", value.read())\n",
    "    break  # To actually complete the loop, remove this."
   ]
  },
  {
   "cell_type": "code",
   "execution_count": null,
   "id": "be72d1ad-2c5c-473b-8367-f3e1e208fb3f",
   "metadata": {},
   "outputs": [],
   "source": [
    "for key, value in stuff.items():\n",
    "    # Both\n",
    "    print((key, value))\n",
    "    break  # To actually complete the loop, remove this."
   ]
  },
  {
   "cell_type": "code",
   "execution_count": null,
   "id": "96fe75bb-3434-480e-87e3-b309722c061f",
   "metadata": {},
   "outputs": [],
   "source": []
  }
 ],
 "metadata": {
  "kernelspec": {
   "display_name": "Python 3 (ipykernel)",
   "language": "python",
   "name": "python3"
  },
  "language_info": {
   "codemirror_mode": {
    "name": "ipython",
    "version": 3
   },
   "file_extension": ".py",
   "mimetype": "text/x-python",
   "name": "python",
   "nbconvert_exporter": "python",
   "pygments_lexer": "ipython3",
   "version": "3.7.12"
  }
 },
 "nbformat": 4,
 "nbformat_minor": 5
}
