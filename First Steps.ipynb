{
 "cells": [
  {
   "cell_type": "markdown",
   "id": "1bb50bec",
   "metadata": {},
   "source": [
    "# First Steps Accessing Data with Tiled\n",
    "\n",
    "More tutorials are available in the [documentation](https://blueskyproject.io/tiled)."
   ]
  },
  {
   "cell_type": "markdown",
   "id": "e8c7d173",
   "metadata": {},
   "source": [
    "## Connect to a Tiled Service"
   ]
  },
  {
   "cell_type": "code",
   "execution_count": null,
   "id": "2d2f49c3",
   "metadata": {},
   "outputs": [],
   "source": [
    "from tiled.client import from_uri"
   ]
  },
  {
   "cell_type": "code",
   "execution_count": null,
   "id": "c21df5e6",
   "metadata": {},
   "outputs": [],
   "source": [
    "c = from_uri(\"https://tiled-demo.blueskyproject.io/api\")\n",
    "c"
   ]
  },
  {
   "cell_type": "markdown",
   "id": "3f62e9dd",
   "metadata": {},
   "source": [
    "## Walk down the tree to find some data"
   ]
  },
  {
   "cell_type": "code",
   "execution_count": null,
   "id": "fef4f576",
   "metadata": {},
   "outputs": [],
   "source": [
    "c['generated']"
   ]
  },
  {
   "cell_type": "code",
   "execution_count": null,
   "id": "c23fc5ed",
   "metadata": {},
   "outputs": [],
   "source": [
    "ac = c['generated']['small_image']\n",
    "ac"
   ]
  },
  {
   "cell_type": "markdown",
   "id": "f6f4ec57",
   "metadata": {},
   "source": [
    "## Access an array (like an image) in whole or in part"
   ]
  },
  {
   "cell_type": "code",
   "execution_count": null,
   "id": "873ab97e",
   "metadata": {},
   "outputs": [],
   "source": [
    "ac.read()"
   ]
  },
  {
   "cell_type": "code",
   "execution_count": null,
   "id": "d53a23d5",
   "metadata": {},
   "outputs": [],
   "source": [
    "ac[:]  # equivalent to read(), may feel more familiar/obvious to some"
   ]
  },
  {
   "cell_type": "code",
   "execution_count": null,
   "id": "149816ba",
   "metadata": {},
   "outputs": [],
   "source": [
    "ac[:5, :5]  # slice any section, only \"pay\" for what you need"
   ]
  },
  {
   "cell_type": "markdown",
   "id": "9e0eacac",
   "metadata": {},
   "source": [
    "## Export an array as a file in various formats"
   ]
  },
  {
   "cell_type": "code",
   "execution_count": null,
   "id": "df249f72",
   "metadata": {},
   "outputs": [],
   "source": [
    "ac.export(\"my_image.png\")"
   ]
  },
  {
   "cell_type": "code",
   "execution_count": null,
   "id": "c5cc85b2",
   "metadata": {},
   "outputs": [],
   "source": [
    "ac.export(\"my_image.tif\")"
   ]
  },
  {
   "cell_type": "code",
   "execution_count": null,
   "id": "91931333",
   "metadata": {},
   "outputs": [],
   "source": [
    "ac.export(\"my_image.tiff\")"
   ]
  },
  {
   "cell_type": "code",
   "execution_count": null,
   "id": "06e3a4f4",
   "metadata": {},
   "outputs": [],
   "source": [
    "ac.formats"
   ]
  },
  {
   "cell_type": "code",
   "execution_count": null,
   "id": "cb80e70b",
   "metadata": {},
   "outputs": [],
   "source": [
    "ac.export(\"my_image.txt\", format='text/plain')"
   ]
  },
  {
   "cell_type": "markdown",
   "id": "77722cd6",
   "metadata": {},
   "source": [
    "## Find more contents"
   ]
  },
  {
   "cell_type": "code",
   "execution_count": null,
   "id": "88e1cafb",
   "metadata": {},
   "outputs": [],
   "source": [
    "c['generated']"
   ]
  },
  {
   "cell_type": "code",
   "execution_count": null,
   "id": "3d3a4145",
   "metadata": {},
   "outputs": [],
   "source": [
    "list(c['generated'])"
   ]
  },
  {
   "cell_type": "code",
   "execution_count": null,
   "id": "189d6970",
   "metadata": {},
   "outputs": [],
   "source": [
    "from tiled.utils import tree\n",
    "\n",
    "tree(c['generated'])"
   ]
  },
  {
   "cell_type": "markdown",
   "id": "b437495a",
   "metadata": {},
   "source": [
    "## Access tabluar (\"dataframe\") data, in whole or in part"
   ]
  },
  {
   "cell_type": "code",
   "execution_count": null,
   "id": "8fe55047",
   "metadata": {},
   "outputs": [],
   "source": [
    "dfc = c['generated']['short_table']\n",
    "dfc"
   ]
  },
  {
   "cell_type": "code",
   "execution_count": null,
   "id": "642934e4",
   "metadata": {},
   "outputs": [],
   "source": [
    "dfc.metadata"
   ]
  },
  {
   "cell_type": "code",
   "execution_count": null,
   "id": "1bfbea69",
   "metadata": {},
   "outputs": [],
   "source": [
    "dfc.read()"
   ]
  },
  {
   "cell_type": "code",
   "execution_count": null,
   "id": "ba5e9479",
   "metadata": {},
   "outputs": [],
   "source": [
    "c['generated']['short_table'].read()"
   ]
  },
  {
   "cell_type": "code",
   "execution_count": null,
   "id": "a45d1cd9",
   "metadata": {},
   "outputs": [],
   "source": [
    "dfc['A']"
   ]
  },
  {
   "cell_type": "code",
   "execution_count": null,
   "id": "338be131",
   "metadata": {},
   "outputs": [],
   "source": [
    "dfc[['A', 'C']]"
   ]
  },
  {
   "cell_type": "code",
   "execution_count": null,
   "id": "77a854b5",
   "metadata": {},
   "outputs": [],
   "source": [
    "dfc.read(['A', 'C'])"
   ]
  },
  {
   "cell_type": "markdown",
   "id": "88a76caf",
   "metadata": {},
   "source": [
    "## Export tabular data in various formats"
   ]
  },
  {
   "cell_type": "code",
   "execution_count": null,
   "id": "3aada478",
   "metadata": {},
   "outputs": [],
   "source": [
    "dfc.export('table.csv')"
   ]
  },
  {
   "cell_type": "code",
   "execution_count": null,
   "id": "6ef52616",
   "metadata": {},
   "outputs": [],
   "source": [
    "dfc.export('table.xlsx')"
   ]
  },
  {
   "cell_type": "code",
   "execution_count": null,
   "id": "20825b35",
   "metadata": {},
   "outputs": [],
   "source": [
    "dfc.formats"
   ]
  },
  {
   "cell_type": "markdown",
   "id": "005bc745",
   "metadata": {},
   "source": [
    "## Loops\n",
    "\n",
    "Tiled nodes act like Python dictionaries. All the usual methods apply."
   ]
  },
  {
   "cell_type": "code",
   "execution_count": null,
   "id": "2679c23b",
   "metadata": {},
   "outputs": [],
   "source": [
    "stuff = c['um2022']['olds']['LaB6_fast']\n",
    "stuff"
   ]
  },
  {
   "cell_type": "code",
   "execution_count": null,
   "id": "fb3d0da8",
   "metadata": {},
   "outputs": [],
   "source": [
    "len(stuff)"
   ]
  },
  {
   "cell_type": "code",
   "execution_count": null,
   "id": "4da5eeb6",
   "metadata": {},
   "outputs": [],
   "source": [
    "for key in stuff:\n",
    "    # Gives the names, like 'rand_LaB6_short_20210913-211322_6028a5_0001_mean_tth'\n",
    "    print(\"key:\", key)\n",
    "    print(\"stuff[key]:\", stuff[key])\n",
    "    break  # To actually complete the loop, remove this."
   ]
  },
  {
   "cell_type": "markdown",
   "id": "28d16933",
   "metadata": {},
   "source": [
    "On dictionary-like objects,\n",
    "\n",
    "```python\n",
    "for key in stuff:\n",
    "    ...\n",
    "```\n",
    "\n",
    "is equivalent to:\n",
    "\n",
    "```python\n",
    "for key in stuff.keys():\n",
    "    ...\n",
    "```"
   ]
  },
  {
   "cell_type": "code",
   "execution_count": null,
   "id": "1607d557",
   "metadata": {},
   "outputs": [],
   "source": [
    "for value in stuff.values():\n",
    "    # Gives access to the data\n",
    "    print(\"value:\", value)\n",
    "    print(\"value.read():\", value.read())\n",
    "    break  # To actually complete the loop, remove this."
   ]
  },
  {
   "cell_type": "code",
   "execution_count": null,
   "id": "aa844e7b",
   "metadata": {},
   "outputs": [],
   "source": [
    "for key, value in stuff.items():\n",
    "    # Both\n",
    "    print((key, value))\n",
    "    break  # To actually complete the loop, remove this."
   ]
  },
  {
   "cell_type": "code",
   "execution_count": null,
   "id": "d37a804a",
   "metadata": {},
   "outputs": [],
   "source": []
  }
 ],
 "metadata": {
  "kernelspec": {
   "display_name": "Python 3",
   "language": "python",
   "name": "python3"
  },
  "language_info": {
   "codemirror_mode": {
    "name": "ipython",
    "version": 3
   },
   "file_extension": ".py",
   "mimetype": "text/x-python",
   "name": "python",
   "nbconvert_exporter": "python",
   "pygments_lexer": "ipython3",
   "version": "3.8.5"
  }
 },
 "nbformat": 4,
 "nbformat_minor": 5
}
