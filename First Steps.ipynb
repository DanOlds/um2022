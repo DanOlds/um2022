{
 "cells": [
  {
   "cell_type": "markdown",
   "id": "af529346-0183-411f-9603-eb5fe74bc4a3",
   "metadata": {},
   "source": [
    "# First Steps Accessing Data with Tiled"
   ]
  },
  {
   "cell_type": "code",
   "execution_count": null,
   "id": "e32970b6-5ed1-4c44-9225-780dfdf0e97e",
   "metadata": {},
   "outputs": [],
   "source": [
    "from tiled.client import from_uri"
   ]
  },
  {
   "cell_type": "code",
   "execution_count": null,
   "id": "8f0c1471-14f4-4317-acfe-732822a2db1c",
   "metadata": {},
   "outputs": [],
   "source": [
    "c = from_uri(\"https://tiled-demo.blueskyproject.io/api\")\n",
    "c"
   ]
  },
  {
   "cell_type": "code",
   "execution_count": null,
   "id": "e31d5626-240f-487d-99f2-983e35cb0ad0",
   "metadata": {},
   "outputs": [],
   "source": []
  }
 ],
 "metadata": {
  "kernelspec": {
   "display_name": "Python 3 (ipykernel)",
   "language": "python",
   "name": "python3"
  },
  "language_info": {
   "codemirror_mode": {
    "name": "ipython",
    "version": 3
   },
   "file_extension": ".py",
   "mimetype": "text/x-python",
   "name": "python",
   "nbconvert_exporter": "python",
   "pygments_lexer": "ipython3",
   "version": "3.7.12"
  }
 },
 "nbformat": 4,
 "nbformat_minor": 5
}
