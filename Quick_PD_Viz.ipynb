{
 "cells": [
  {
   "cell_type": "code",
   "execution_count": null,
   "id": "4e69ca6e-6e12-4648-92a8-3c0c11b0dad2",
   "metadata": {},
   "outputs": [],
   "source": [
    "from tiled.client import from_uri, from_profile\n",
    "import matplotlib.pyplot as plt\n",
    "import numpy as np\n",
    "import pandas as pd\n",
    "\n",
    "%matplotlib widget"
   ]
  },
  {
   "cell_type": "markdown",
   "id": "5444258e-4b4e-43b9-ab3a-9cb616176d00",
   "metadata": {},
   "source": [
    "1.  Diffraction 101\n",
    "2.  What is the format of the data RIGHT NOW\n",
    "3.  Read in some data (stored in files), keep in pandas dataframe\n",
    "4.  plot data, do some simple reduction (subtract background)\n",
    "\n",
    "5.  BaTiO3 dataset, read in, make nice plot\n",
    "6.  Track some peaks, make a plot of peak as a function of position\n"
   ]
  },
  {
   "cell_type": "code",
   "execution_count": null,
   "id": "b841c445-e41b-4240-8359-451960bf11d2",
   "metadata": {},
   "outputs": [],
   "source": [
    "c = from_uri(\"https://tiled-demo.blueskyproject.io/api\")"
   ]
  },
  {
   "cell_type": "markdown",
   "id": "786d431a-4116-4ffd-856c-73076a5d177f",
   "metadata": {},
   "source": [
    "Point to file-based powder diffraction data, which has already been reduced into 1-D patterns."
   ]
  },
  {
   "cell_type": "code",
   "execution_count": null,
   "id": "4de99c20-7230-4789-811b-97604b677e67",
   "metadata": {},
   "outputs": [],
   "source": [
    "my_cat = c['um2022']['olds']\n",
    "my_cat"
   ]
  },
  {
   "cell_type": "markdown",
   "id": "f8436d89-384a-4703-83c3-68cc3745410a",
   "metadata": {},
   "source": [
    "Can see the 'node', but if we want to see all the entries, must cast as a list."
   ]
  },
  {
   "cell_type": "code",
   "execution_count": null,
   "id": "1defdb62-6e48-44a2-92e6-0e2b661235ff",
   "metadata": {},
   "outputs": [],
   "source": [
    "list(my_cat)"
   ]
  },
  {
   "cell_type": "markdown",
   "id": "1c49a321-57a6-407e-8161-6cd88eb20baa",
   "metadata": {},
   "source": [
    "Let's look at the 'long' measurement of LaB6"
   ]
  },
  {
   "cell_type": "code",
   "execution_count": null,
   "id": "8102690d-325a-40f4-82ac-39f9d9fc949b",
   "metadata": {},
   "outputs": [],
   "source": [
    "my_cat['LaB6_long']"
   ]
  },
  {
   "cell_type": "markdown",
   "id": "efd9284f-c2c7-44e3-bea4-a7e795a56def",
   "metadata": {},
   "source": [
    "Again, even though there is a single entry into this node, we need to select it to go down another layer in the tree."
   ]
  },
  {
   "cell_type": "code",
   "execution_count": null,
   "id": "41ee1ee5-737f-44ea-9d3b-54ee601e56a9",
   "metadata": {},
   "outputs": [],
   "source": [
    "my_cat['LaB6_long']['LaB6_long_20210913-230727_322be6_0001_mean_tth']"
   ]
  },
  {
   "cell_type": "markdown",
   "id": "4a69c97e-a6a5-4ecd-ac93-8ed4fcc5f073",
   "metadata": {},
   "source": [
    "We see at this point that we have a Pandas DataFrame with a column labeled 'I' for intensity.  As this is no longer a node, but a data layer, we can read this."
   ]
  },
  {
   "cell_type": "code",
   "execution_count": null,
   "id": "05370c5f-a3d2-4c58-b6fe-11acab1e1b97",
   "metadata": {},
   "outputs": [],
   "source": [
    "my_cat['LaB6_long']['LaB6_long_20210913-230727_322be6_0001_mean_tth'].read()"
   ]
  },
  {
   "cell_type": "markdown",
   "id": "757fbe3d-53c9-4ddd-a345-529b494753a1",
   "metadata": {},
   "source": [
    "Or plot it directly via the pandas .plot method"
   ]
  },
  {
   "cell_type": "code",
   "execution_count": null,
   "id": "d6d0099e-1780-466f-832c-c0ae760d25e0",
   "metadata": {},
   "outputs": [],
   "source": [
    "my_cat['LaB6_long']['LaB6_long_20210913-230727_322be6_0001_mean_tth'].read().plot(figsize=(4,2))"
   ]
  },
  {
   "cell_type": "markdown",
   "id": "2d552ae9-084a-463d-b2b2-9f923d5e64a7",
   "metadata": {},
   "source": [
    "While this is nice, you might be thinking - that is a very long name to type out.  Sort of a hassle to copy/paste a big giant string like that every time you want to access something.\n",
    "\n",
    "Say hello to indexers :D "
   ]
  },
  {
   "cell_type": "code",
   "execution_count": null,
   "id": "1e26db62-64ad-43cd-85f8-f2f893be13d6",
   "metadata": {},
   "outputs": [],
   "source": [
    "my_cat['LaB6_long'].values_indexer[0]"
   ]
  },
  {
   "cell_type": "code",
   "execution_count": null,
   "id": "fff54c73-33d9-44de-9b0b-beb7605ee973",
   "metadata": {},
   "outputs": [],
   "source": [
    "my_cat['LaB6_long']['LaB6_long_20210913-230727_322be6_0001_mean_tth']"
   ]
  },
  {
   "cell_type": "markdown",
   "id": "f02bddcd-f5d0-4150-9eaf-f3684a0b845b",
   "metadata": {},
   "source": [
    "Returns the '0th' enttry of the node - which is the dataframe (that we could read / plot just as before)."
   ]
  },
  {
   "cell_type": "code",
   "execution_count": null,
   "id": "9d70e862-d7ee-4208-86c6-6e30fa0474d7",
   "metadata": {},
   "outputs": [],
   "source": [
    "my_cat['LaB6_long'].values_indexer[0].read().plot(figsize=(4,2))"
   ]
  },
  {
   "cell_type": "markdown",
   "id": "ebce1657-8bd0-4495-93ca-117f37c0448d",
   "metadata": {},
   "source": [
    "In addition to the values_indexer, there is keys_indexer - which returns the key name for that corresponding node."
   ]
  },
  {
   "cell_type": "code",
   "execution_count": null,
   "id": "7f4309f1-64d2-4960-a292-ae9359fd750e",
   "metadata": {},
   "outputs": [],
   "source": [
    "my_cat['LaB6_long'].keys_indexer[0]"
   ]
  },
  {
   "cell_type": "markdown",
   "id": "deb47def-8c74-4e45-8fc2-41e81e06ffbf",
   "metadata": {},
   "source": [
    "If you wanted both the keys and values, you can use the items_indexer to get a tuple of key and values."
   ]
  },
  {
   "cell_type": "code",
   "execution_count": null,
   "id": "0e1879f5-bf84-423d-ba93-3a451dff0426",
   "metadata": {},
   "outputs": [],
   "source": [
    "my_cat['LaB6_long'].items_indexer[0]"
   ]
  },
  {
   "cell_type": "markdown",
   "id": "dbb9bcdf-537d-49ca-9c21-dd5cc6a6f733",
   "metadata": {},
   "source": [
    "Back to our data!  Let's see what other datasets we could plot."
   ]
  },
  {
   "cell_type": "code",
   "execution_count": null,
   "id": "6efc2106-31f3-479c-993b-7f96614fdcf5",
   "metadata": {},
   "outputs": [],
   "source": [
    "list(my_cat)"
   ]
  },
  {
   "cell_type": "markdown",
   "id": "2bf54d96-9fea-4c2f-b4ab-8893d9730cf1",
   "metadata": {},
   "source": [
    "ethanol_fast contains many short, fast mesaurements of ethanol in a kapton capillary."
   ]
  },
  {
   "cell_type": "code",
   "execution_count": null,
   "id": "af04a99a-411e-4e34-823e-c1adbeb5469b",
   "metadata": {},
   "outputs": [],
   "source": [
    "len(my_cat['ethanol_fast'])"
   ]
  },
  {
   "cell_type": "markdown",
   "id": "8076b19b-cbfd-4281-a764-022083592b77",
   "metadata": {},
   "source": [
    "Let's load up some of these, and put them in a pandas dataframe.\n",
    "For simplicity, we'll label the column names of the DataFrame we are putting the data in as sequential integers, and we'll only load 10 at first (to keep the time short)."
   ]
  },
  {
   "cell_type": "code",
   "execution_count": null,
   "id": "dfcd9125-258a-4aef-9b7f-49310f071cf2",
   "metadata": {},
   "outputs": [],
   "source": [
    "ethanol_data = my_cat['ethanol_fast'].values_indexer[0].read()\n",
    "for i in range(1,20):\n",
    "#for i in range(1,len(my_cat['ethanol_fast'])):\n",
    "    temp_df = my_cat['ethanol_fast'].values_indexer[i].read()\n",
    "    ethanol_data = pd.concat([ethanol_data,temp_df],axis=1)\n",
    "    \n",
    "ethanol_data.columns = np.arange(len(ethanol_data.columns))\n",
    "\n",
    "ethanol_data = ethanol_data.loc[.2:15,:]"
   ]
  },
  {
   "cell_type": "code",
   "execution_count": null,
   "id": "c15c2f4c-83e7-4243-9968-2062cbd51a23",
   "metadata": {},
   "outputs": [],
   "source": [
    "ethanol_data.plot(figsize=(4,2),legend=False)"
   ]
  },
  {
   "cell_type": "markdown",
   "id": "daeb331a-2da1-43ab-b5f7-81c8912c9e57",
   "metadata": {},
   "source": [
    "This appears to have lots of variation in intensity between the different datasets!  \n",
    "\n",
    "Let's take a look at this data in a different way, like a quick waterfall plot."
   ]
  },
  {
   "cell_type": "code",
   "execution_count": null,
   "id": "e948cffd-4507-44f5-b805-acebc422d9db",
   "metadata": {},
   "outputs": [],
   "source": [
    "plt.figure(figsize=(4,2))\n",
    "for i in range(len(ethanol_data.columns)):\n",
    "    plt.plot(ethanol_data.loc[:,i]+i*5,alpha=.8)"
   ]
  },
  {
   "cell_type": "markdown",
   "id": "129a2916-44d3-4959-8929-34b9d178de1d",
   "metadata": {},
   "source": [
    "So it's clear we have some issues between these scans having different amounts of intensity.  We'd like to average the runs together, but we probably don't want to do this as is.  Maybe we are lucky and if we normalize the data to say, the maximia of the low-angle peak."
   ]
  },
  {
   "cell_type": "code",
   "execution_count": null,
   "id": "7b5edc3d-2f69-4867-abe7-4162fc411094",
   "metadata": {},
   "outputs": [],
   "source": [
    "plt.figure(figsize=(4,2))\n",
    "for i in range(len(ethanol_data.columns)):\n",
    "    plt.plot(ethanol_data.loc[:,i]/max(ethanol_data.loc[1:3.7,i])+i*.4)"
   ]
  },
  {
   "cell_type": "markdown",
   "id": "efe10f77-5f84-40c0-8332-c5959698775a",
   "metadata": {},
   "source": [
    "Let's try averaging this together."
   ]
  },
  {
   "cell_type": "code",
   "execution_count": null,
   "id": "b84a382c-a359-4ffb-b2ef-7c0673b747ed",
   "metadata": {},
   "outputs": [],
   "source": [
    "plt.figure(figsize=(4,2))\n",
    "plt.plot((ethanol_data.loc[:,:]).mean(axis=1))"
   ]
  },
  {
   "cell_type": "markdown",
   "id": "a71de89f-b1fa-4a3a-8dcb-369eed5b3c8c",
   "metadata": {},
   "source": [
    "Now let's compare to a single, higher quality measurement."
   ]
  },
  {
   "cell_type": "code",
   "execution_count": null,
   "id": "b967e356-fbd5-43ae-9e50-435e0009a316",
   "metadata": {},
   "outputs": [],
   "source": [
    "plt.figure(figsize=(4,2))\n",
    "plt.plot((ethanol_data.loc[:,:]).mean(axis=1))\n",
    "plt.plot(my_cat['ethanol_long'].values_indexer[0].read()/30)"
   ]
  },
  {
   "cell_type": "markdown",
   "id": "098efc6f-f28a-4167-ac0d-8bb92ac75018",
   "metadata": {},
   "source": [
    "After this insepection, it's clear that the features in the lower quality datasets are the same as the higher (peak position is the same), but due to the noise present, even averaging mutliple datasets together won't recover the data quality seen in the longer run measurment.  "
   ]
  },
  {
   "cell_type": "markdown",
   "id": "35622235-8aea-4ce0-bd38-e74b1527d869",
   "metadata": {},
   "source": [
    "Let's switch over to some temperature dependent BaTiO3 data!\n",
    "\n"
   ]
  },
  {
   "cell_type": "code",
   "execution_count": null,
   "id": "c64c4c55-7179-45a3-84a2-b8a7befbda47",
   "metadata": {},
   "outputs": [],
   "source": [
    "data = c['um2022']['olds']['BaTiO3_VT']\n",
    "file_list = sorted(list(data))\n",
    "\n",
    "bto_data = data[file_list[0]].read()\n",
    "for i in range(1,len(file_list)):\n",
    "    temp_df = data[file_list[i]].read()\n",
    "    temp_df.columns = [i]\n",
    "    bto_data = pd.concat([bto_data,temp_df],axis=1)\n",
    "    "
   ]
  },
  {
   "cell_type": "code",
   "execution_count": null,
   "id": "1835a931-ab0e-49f0-86d9-2b5e7f305565",
   "metadata": {},
   "outputs": [],
   "source": [
    "len(bto_data.columns)"
   ]
  },
  {
   "cell_type": "markdown",
   "id": "1e3e056f-5973-4206-9f81-65939a3de857",
   "metadata": {},
   "source": [
    "In this case, we happen to know the temperature these datasets were taken at, so we can put those in as column names."
   ]
  },
  {
   "cell_type": "code",
   "execution_count": null,
   "id": "f9686eb8-ee4a-4f00-9b6e-2a863e921dfb",
   "metadata": {},
   "outputs": [],
   "source": [
    "bto_data.columns = np.arange(100,502,2,dtype=float) "
   ]
  },
  {
   "cell_type": "markdown",
   "id": "438c5474-f79c-495f-baa7-914a1b7abf18",
   "metadata": {},
   "source": [
    "Let's have a quick look at the data."
   ]
  },
  {
   "cell_type": "code",
   "execution_count": null,
   "id": "7b95ec99-d275-42ce-95be-467e55a0e29f",
   "metadata": {},
   "outputs": [],
   "source": [
    "plt.figure(figsize=(4,2))\n",
    "plt.plot(bto_data.mean(axis=1))"
   ]
  },
  {
   "cell_type": "code",
   "execution_count": null,
   "id": "3272631e-5fad-4a99-a5eb-66b79ebba0f0",
   "metadata": {},
   "outputs": [],
   "source": [
    "plt.figure(figsize=(4,2))\n",
    "for i in range(len(bto_data.columns)):\n",
    "    #this_col = BTO_data.columns\n",
    "    plt.plot(bto_data.iloc[:,i]+i*20,color='k',alpha=.5)"
   ]
  },
  {
   "cell_type": "markdown",
   "id": "efb99ba8-ebf6-4bd4-9acf-ff5f0c01d218",
   "metadata": {},
   "source": [
    "Just to make things a little nicer, let's make a colormap based on the temperature, and zoom in on one of the peaks where we can see the changes happening."
   ]
  },
  {
   "cell_type": "code",
   "execution_count": null,
   "id": "310a1a5b-5981-4310-8d94-d09de300ef2a",
   "metadata": {},
   "outputs": [],
   "source": [
    "def make_colormap(num_ids,use_cmap='viridis'):\n",
    "    num_colors = (num_ids)\n",
    "    cm = plt.cm.get_cmap(name=use_cmap)\n",
    "    currentColors = [cm(1.*i/num_colors) for i in range(num_colors)]\n",
    "    return currentColors"
   ]
  },
  {
   "cell_type": "code",
   "execution_count": null,
   "id": "005571d0-ff7f-4ccb-8b30-c578cf4a43b6",
   "metadata": {},
   "outputs": [],
   "source": [
    "plt.figure(dpi=100)\n",
    "cc = make_colormap(len(bto_data.columns)+50, use_cmap='inferno')\n",
    "\n",
    "tth = bto_data.loc[4.7:5].index\n",
    "\n",
    "for i in range(len(bto_data.columns)):\n",
    "    this_t = bto_data.columns[i]\n",
    "    plt.plot(tth+i*.0005,bto_data.loc[4.7:5,this_t]+i*5,c=cc[i],alpha=.7)\n",
    "    \n",
    "plt.xlabel('tth [degrees]');\n",
    "plt.ylabel('I [a.u.]');"
   ]
  },
  {
   "cell_type": "code",
   "execution_count": null,
   "id": "9e94bf6d-3e99-45bb-b343-05e724fb6966",
   "metadata": {},
   "outputs": [],
   "source": []
  },
  {
   "cell_type": "code",
   "execution_count": null,
   "id": "da00f6bc-1be6-43be-8be1-adcf8067c348",
   "metadata": {},
   "outputs": [],
   "source": []
  }
 ],
 "metadata": {
  "kernelspec": {
   "display_name": "Python 3",
   "language": "python",
   "name": "python3"
  },
  "language_info": {
   "codemirror_mode": {
    "name": "ipython",
    "version": 3
   },
   "file_extension": ".py",
   "mimetype": "text/x-python",
   "name": "python",
   "nbconvert_exporter": "python",
   "pygments_lexer": "ipython3",
   "version": "3.9.12"
  }
 },
 "nbformat": 4,
 "nbformat_minor": 5
}
